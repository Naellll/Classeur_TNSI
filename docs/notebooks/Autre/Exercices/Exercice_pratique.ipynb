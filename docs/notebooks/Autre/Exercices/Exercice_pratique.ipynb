{
 "cells": [
  {
   "attachments": {},
   "cell_type": "markdown",
   "metadata": {},
   "source": [
    "# Sujet n°01 :"
   ]
  },
  {
   "cell_type": "code",
   "execution_count": 7,
   "metadata": {},
   "outputs": [],
   "source": [
    "#1\n",
    "def verifie(tab):\n",
    "    trier = True\n",
    "    for i in range(len(tab)-1):\n",
    "        if tab[i] <= tab[i+1]:\n",
    "            trier = trier and True\n",
    "        else:\n",
    "            trier = trier and False\n",
    "    return trier"
   ]
  },
  {
   "cell_type": "code",
   "execution_count": 17,
   "metadata": {},
   "outputs": [],
   "source": [
    "#2\n",
    "def depouille(urne):\n",
    "    resultat = {}\n",
    "    for bulletin in urne:\n",
    "        if bulletin in resultat:\n",
    "            resultat[bulletin] = resultat[bulletin] + 1\n",
    "        else:\n",
    "            resultat[bulletin]=1\n",
    "    return resultat\n",
    "\n",
    "def vainqueur(election):\n",
    "    vainqueur = '' #cette variable ne sert Ã  rien\n",
    "    nmax = 0\n",
    "    for candidat in election:\n",
    "        if election[candidat] > nmax :\n",
    "            nmax = election[candidat]\n",
    "            vainqueur = candidat #cette ligne ne sert Ã  rien !\n",
    "    liste_finale = [nom for nom in election if election[nom] == nmax]\n",
    "    return liste_finale"
   ]
  },
  {
   "attachments": {},
   "cell_type": "markdown",
   "metadata": {},
   "source": [
    "# Sujet n°02 :"
   ]
  },
  {
   "cell_type": "code",
   "execution_count": 2,
   "metadata": {},
   "outputs": [],
   "source": [
    "#1\n",
    "def indices_maxi(tab):\n",
    "    indices = []\n",
    "    maxi = tab[0]\n",
    "    for i in range(len(tab)):\n",
    "        if tab[i] > maxi:\n",
    "            maxi = tab[i]\n",
    "    for i in range(len(tab)):\n",
    "        if tab[i] == maxi:\n",
    "            indices.append(i)\n",
    "    return (maxi, indices)"
   ]
  },
  {
   "cell_type": "code",
   "execution_count": 3,
   "metadata": {},
   "outputs": [],
   "source": [
    "#2\n",
    "def positif(pile):\n",
    "    pile_1 = list(pile)\n",
    "    pile_2 = []\n",
    "    while pile_1 != []:\n",
    "        x = pile_1.pop()\n",
    "        if x >= 0:\n",
    "            pile_2.append(x)\n",
    "    while pile_2 != []:\n",
    "        x = pile_2.pop()\n",
    "        pile_1.append(x)\n",
    "    return pile_1"
   ]
  },
  {
   "attachments": {},
   "cell_type": "markdown",
   "metadata": {},
   "source": [
    "# Sujet n°3 :"
   ]
  },
  {
   "cell_type": "code",
   "execution_count": 8,
   "metadata": {},
   "outputs": [],
   "source": [
    "#1\n",
    "def moyenne(liste):\n",
    "    valeur = 0\n",
    "    coeff = 0\n",
    "    total = 0\n",
    "    for i in liste:\n",
    "        valeur, coeff = i\n",
    "        total += valeur*coeff\n",
    "    coeff = 0\n",
    "    for i in liste:\n",
    "        coeff += i[1]\n",
    "    if coeff == 0:\n",
    "        return None\n",
    "    else:\n",
    "        return total/coeff"
   ]
  },
  {
   "cell_type": "code",
   "execution_count": 4,
   "metadata": {},
   "outputs": [],
   "source": [
    "#2\n",
    "def affiche(dessin):\n",
    "    ''' affichage d'une grille : les 1 sont reprÃ©sentÃ©s par\n",
    "        des \" *\" , les 0 par deux espaces \"  \" \n",
    "        La valeur \"\" donnÃ©e au paramÃ¨tre end permet \n",
    "        de ne pas avoir de  saut de ligne. '''\n",
    "    for ligne in dessin:\n",
    "        for col in ligne:\n",
    "            if col == 1:\n",
    "                print(\" *\", end=\"\")\n",
    "            else:\n",
    "                print(\"  \", end=\"\")\n",
    "        print()\n",
    "\n",
    "def zoomListe(liste_depart, k):\n",
    "    '''renvoie une liste contenant k fois chaque\n",
    "       Ã©lÃ©ment de liste_depart'''\n",
    "    liste_zoom = []\n",
    "    for elt in liste_depart:\n",
    "        for i in range(k):\n",
    "            liste_zoom.append(elt)\n",
    "    return liste_zoom\n",
    "\n",
    "def zoomDessin(grille, k):\n",
    "    '''renvoie une grille ou les lignes sont zoomÃ©es k fois\n",
    "       ET rÃ©pÃ©tÃ©es k fois'''\n",
    "    grille_zoom=[]\n",
    "    for elt in grille:\n",
    "        liste_zoom = zoomListe(elt, k)\n",
    "        for i in range(k):\n",
    "            grille_zoom.append(liste_zoom)\n",
    "    return grille_zoom"
   ]
  },
  {
   "attachments": {},
   "cell_type": "markdown",
   "metadata": {},
   "source": [
    "# Sujet n°09 :"
   ]
  },
  {
   "cell_type": "code",
   "execution_count": 10,
   "metadata": {},
   "outputs": [],
   "source": [
    "#1.\n",
    "def multiplication(n1, n2):\n",
    "    total = 0\n",
    "\n",
    "    if n1 == 0 or n2 == 0:\n",
    "        total = 0\n",
    "\n",
    "    elif n1 > 0 or n2 > 0:\n",
    "        for i in range(max(n1,n2)):\n",
    "            total += min(n1,n2)\n",
    "    \n",
    "    else:\n",
    "        for i in range(-n1):\n",
    "            total -= n2\n",
    "    \n",
    "    return total"
   ]
  },
  {
   "cell_type": "code",
   "execution_count": 14,
   "metadata": {},
   "outputs": [],
   "source": [
    "#2.\n",
    "def chercher(tab, n, i, j):\n",
    "    if i < 0 or j > len(tab):\n",
    "        return None\n",
    "    elif i > j:\n",
    "        return None\n",
    "    m = (i + j) // 2\n",
    "    if tab[m] < n:\n",
    "        return chercher(tab, n, m, j)\n",
    "    elif tab[m] > n:\n",
    "        return chercher(tab, n, i, m)\n",
    "    else:\n",
    "        return m"
   ]
  },
  {
   "cell_type": "code",
   "execution_count": 2,
   "metadata": {},
   "outputs": [
    {
     "ename": "RecursionError",
     "evalue": "maximum recursion depth exceeded in comparison",
     "output_type": "error",
     "traceback": [
      "\u001b[0;31m---------------------------------------------------------------------------\u001b[0m",
      "\u001b[0;31mRecursionError\u001b[0m                            Traceback (most recent call last)",
      "Cell \u001b[0;32mIn [2], line 1\u001b[0m\n\u001b[0;32m----> 1\u001b[0m chercher([\u001b[39m1\u001b[39m, \u001b[39m5\u001b[39m, \u001b[39m6\u001b[39m, \u001b[39m6\u001b[39m, \u001b[39m9\u001b[39m, \u001b[39m12\u001b[39m], \u001b[39m7\u001b[39m, \u001b[39m0\u001b[39m, \u001b[39m5\u001b[39m)\n",
      "Cell \u001b[0;32mIn [1], line 9\u001b[0m, in \u001b[0;36mchercher\u001b[0;34m(tab, n, i, j)\u001b[0m\n\u001b[1;32m      7\u001b[0m m \u001b[39m=\u001b[39m (i \u001b[39m+\u001b[39m j) \u001b[39m/\u001b[39m\u001b[39m/\u001b[39m \u001b[39m2\u001b[39m\n\u001b[1;32m      8\u001b[0m \u001b[39mif\u001b[39;00m tab[m] \u001b[39m<\u001b[39m n:\n\u001b[0;32m----> 9\u001b[0m     \u001b[39mreturn\u001b[39;00m chercher(tab, n, m, j)\n\u001b[1;32m     10\u001b[0m \u001b[39melif\u001b[39;00m tab[m] \u001b[39m>\u001b[39m n:\n\u001b[1;32m     11\u001b[0m     \u001b[39mreturn\u001b[39;00m chercher(tab, n, i, m)\n",
      "Cell \u001b[0;32mIn [1], line 9\u001b[0m, in \u001b[0;36mchercher\u001b[0;34m(tab, n, i, j)\u001b[0m\n\u001b[1;32m      7\u001b[0m m \u001b[39m=\u001b[39m (i \u001b[39m+\u001b[39m j) \u001b[39m/\u001b[39m\u001b[39m/\u001b[39m \u001b[39m2\u001b[39m\n\u001b[1;32m      8\u001b[0m \u001b[39mif\u001b[39;00m tab[m] \u001b[39m<\u001b[39m n:\n\u001b[0;32m----> 9\u001b[0m     \u001b[39mreturn\u001b[39;00m chercher(tab, n, m, j)\n\u001b[1;32m     10\u001b[0m \u001b[39melif\u001b[39;00m tab[m] \u001b[39m>\u001b[39m n:\n\u001b[1;32m     11\u001b[0m     \u001b[39mreturn\u001b[39;00m chercher(tab, n, i, m)\n",
      "Cell \u001b[0;32mIn [1], line 11\u001b[0m, in \u001b[0;36mchercher\u001b[0;34m(tab, n, i, j)\u001b[0m\n\u001b[1;32m      9\u001b[0m     \u001b[39mreturn\u001b[39;00m chercher(tab, n, m, j)\n\u001b[1;32m     10\u001b[0m \u001b[39melif\u001b[39;00m tab[m] \u001b[39m>\u001b[39m n:\n\u001b[0;32m---> 11\u001b[0m     \u001b[39mreturn\u001b[39;00m chercher(tab, n, i, m)\n\u001b[1;32m     12\u001b[0m \u001b[39melse\u001b[39;00m:\n\u001b[1;32m     13\u001b[0m     \u001b[39mreturn\u001b[39;00m m\n",
      "Cell \u001b[0;32mIn [1], line 9\u001b[0m, in \u001b[0;36mchercher\u001b[0;34m(tab, n, i, j)\u001b[0m\n\u001b[1;32m      7\u001b[0m m \u001b[39m=\u001b[39m (i \u001b[39m+\u001b[39m j) \u001b[39m/\u001b[39m\u001b[39m/\u001b[39m \u001b[39m2\u001b[39m\n\u001b[1;32m      8\u001b[0m \u001b[39mif\u001b[39;00m tab[m] \u001b[39m<\u001b[39m n:\n\u001b[0;32m----> 9\u001b[0m     \u001b[39mreturn\u001b[39;00m chercher(tab, n, m, j)\n\u001b[1;32m     10\u001b[0m \u001b[39melif\u001b[39;00m tab[m] \u001b[39m>\u001b[39m n:\n\u001b[1;32m     11\u001b[0m     \u001b[39mreturn\u001b[39;00m chercher(tab, n, i, m)\n",
      "Cell \u001b[0;32mIn [1], line 9\u001b[0m, in \u001b[0;36mchercher\u001b[0;34m(tab, n, i, j)\u001b[0m\n\u001b[1;32m      7\u001b[0m m \u001b[39m=\u001b[39m (i \u001b[39m+\u001b[39m j) \u001b[39m/\u001b[39m\u001b[39m/\u001b[39m \u001b[39m2\u001b[39m\n\u001b[1;32m      8\u001b[0m \u001b[39mif\u001b[39;00m tab[m] \u001b[39m<\u001b[39m n:\n\u001b[0;32m----> 9\u001b[0m     \u001b[39mreturn\u001b[39;00m chercher(tab, n, m, j)\n\u001b[1;32m     10\u001b[0m \u001b[39melif\u001b[39;00m tab[m] \u001b[39m>\u001b[39m n:\n\u001b[1;32m     11\u001b[0m     \u001b[39mreturn\u001b[39;00m chercher(tab, n, i, m)\n",
      "    \u001b[0;31m[... skipping similar frames: chercher at line 9 (2966 times)]\u001b[0m\n",
      "Cell \u001b[0;32mIn [1], line 9\u001b[0m, in \u001b[0;36mchercher\u001b[0;34m(tab, n, i, j)\u001b[0m\n\u001b[1;32m      7\u001b[0m m \u001b[39m=\u001b[39m (i \u001b[39m+\u001b[39m j) \u001b[39m/\u001b[39m\u001b[39m/\u001b[39m \u001b[39m2\u001b[39m\n\u001b[1;32m      8\u001b[0m \u001b[39mif\u001b[39;00m tab[m] \u001b[39m<\u001b[39m n:\n\u001b[0;32m----> 9\u001b[0m     \u001b[39mreturn\u001b[39;00m chercher(tab, n, m, j)\n\u001b[1;32m     10\u001b[0m \u001b[39melif\u001b[39;00m tab[m] \u001b[39m>\u001b[39m n:\n\u001b[1;32m     11\u001b[0m     \u001b[39mreturn\u001b[39;00m chercher(tab, n, i, m)\n",
      "Cell \u001b[0;32mIn [1], line 3\u001b[0m, in \u001b[0;36mchercher\u001b[0;34m(tab, n, i, j)\u001b[0m\n\u001b[1;32m      2\u001b[0m \u001b[39mdef\u001b[39;00m \u001b[39mchercher\u001b[39m(tab, n, i, j):\n\u001b[0;32m----> 3\u001b[0m     \u001b[39mif\u001b[39;00m i \u001b[39m<\u001b[39;49m \u001b[39m0\u001b[39;49m \u001b[39mor\u001b[39;00m j \u001b[39m>\u001b[39m \u001b[39mlen\u001b[39m(tab):\n\u001b[1;32m      4\u001b[0m         \u001b[39mreturn\u001b[39;00m \u001b[39mNone\u001b[39;00m\n\u001b[1;32m      5\u001b[0m     \u001b[39melif\u001b[39;00m i \u001b[39m>\u001b[39m j:\n",
      "\u001b[0;31mRecursionError\u001b[0m: maximum recursion depth exceeded in comparison"
     ]
    }
   ],
   "source": [
    "chercher([1, 5, 6, 6, 9, 12], 7, 0, 5)"
   ]
  }
 ],
 "metadata": {
  "kernelspec": {
   "display_name": "Python 3",
   "language": "python",
   "name": "python3"
  },
  "language_info": {
   "codemirror_mode": {
    "name": "ipython",
    "version": 3
   },
   "file_extension": ".py",
   "mimetype": "text/x-python",
   "name": "python",
   "nbconvert_exporter": "python",
   "pygments_lexer": "ipython3",
   "version": "3.8.13"
  },
  "orig_nbformat": 4,
  "vscode": {
   "interpreter": {
    "hash": "9ac03a0a6051494cc606d484d27d20fce22fb7b4d169f583271e11d5ba46a56e"
   }
  }
 },
 "nbformat": 4,
 "nbformat_minor": 2
}
