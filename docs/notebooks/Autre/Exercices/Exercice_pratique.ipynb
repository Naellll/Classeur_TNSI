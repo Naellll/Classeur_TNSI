{
 "cells": [
  {
   "attachments": {},
   "cell_type": "markdown",
   "metadata": {},
   "source": [
    "# Sujet n°09 :"
   ]
  },
  {
   "cell_type": "code",
   "execution_count": 10,
   "metadata": {},
   "outputs": [],
   "source": [
    "#1.\n",
    "def multiplication(n1, n2):\n",
    "    total = 0\n",
    "\n",
    "    if n1 == 0 or n2 == 0:\n",
    "        total = 0\n",
    "\n",
    "    elif n1 > 0 or n2 > 0:\n",
    "        for i in range(max(n1,n2)):\n",
    "            total += min(n1,n2)\n",
    "    \n",
    "    else:\n",
    "        for i in range(-n1):\n",
    "            total -= n2\n",
    "    \n",
    "    return total"
   ]
  },
  {
   "cell_type": "code",
   "execution_count": 22,
   "metadata": {},
   "outputs": [],
   "source": [
    "#2.\n",
    "def chercher(tab, n, i, j):\n",
    "    if i < 0 or j > len(tab):\n",
    "        return None\n",
    "    elif i > j:\n",
    "        return None\n",
    "    m = (i + j) // 2\n",
    "    if tab[m] < n:\n",
    "        return chercher(tab, n, m, j)\n",
    "    elif tab[m] > n:\n",
    "        return chercher(tab, n, i, m)\n",
    "    else:\n",
    "        return tab[m]"
   ]
  },
  {
   "cell_type": "code",
   "execution_count": 23,
   "metadata": {},
   "outputs": [
    {
     "ename": "RecursionError",
     "evalue": "maximum recursion depth exceeded in comparison",
     "output_type": "error",
     "traceback": [
      "\u001b[0;31m---------------------------------------------------------------------------\u001b[0m",
      "\u001b[0;31mRecursionError\u001b[0m                            Traceback (most recent call last)",
      "Cell \u001b[0;32mIn [23], line 1\u001b[0m\n\u001b[0;32m----> 1\u001b[0m chercher([\u001b[39m1\u001b[39m, \u001b[39m5\u001b[39m, \u001b[39m6\u001b[39m, \u001b[39m6\u001b[39m, \u001b[39m9\u001b[39m, \u001b[39m12\u001b[39m], \u001b[39m7\u001b[39m, \u001b[39m0\u001b[39m, \u001b[39m5\u001b[39m)\n",
      "Cell \u001b[0;32mIn [22], line 9\u001b[0m, in \u001b[0;36mchercher\u001b[0;34m(tab, n, i, j)\u001b[0m\n\u001b[1;32m      7\u001b[0m m \u001b[39m=\u001b[39m (i \u001b[39m+\u001b[39m j) \u001b[39m/\u001b[39m\u001b[39m/\u001b[39m \u001b[39m2\u001b[39m\n\u001b[1;32m      8\u001b[0m \u001b[39mif\u001b[39;00m tab[m] \u001b[39m<\u001b[39m n:\n\u001b[0;32m----> 9\u001b[0m     \u001b[39mreturn\u001b[39;00m chercher(tab, n, m, j)\n\u001b[1;32m     10\u001b[0m \u001b[39melif\u001b[39;00m tab[m] \u001b[39m>\u001b[39m n:\n\u001b[1;32m     11\u001b[0m     \u001b[39mreturn\u001b[39;00m chercher(tab, n, i, m)\n",
      "Cell \u001b[0;32mIn [22], line 9\u001b[0m, in \u001b[0;36mchercher\u001b[0;34m(tab, n, i, j)\u001b[0m\n\u001b[1;32m      7\u001b[0m m \u001b[39m=\u001b[39m (i \u001b[39m+\u001b[39m j) \u001b[39m/\u001b[39m\u001b[39m/\u001b[39m \u001b[39m2\u001b[39m\n\u001b[1;32m      8\u001b[0m \u001b[39mif\u001b[39;00m tab[m] \u001b[39m<\u001b[39m n:\n\u001b[0;32m----> 9\u001b[0m     \u001b[39mreturn\u001b[39;00m chercher(tab, n, m, j)\n\u001b[1;32m     10\u001b[0m \u001b[39melif\u001b[39;00m tab[m] \u001b[39m>\u001b[39m n:\n\u001b[1;32m     11\u001b[0m     \u001b[39mreturn\u001b[39;00m chercher(tab, n, i, m)\n",
      "Cell \u001b[0;32mIn [22], line 11\u001b[0m, in \u001b[0;36mchercher\u001b[0;34m(tab, n, i, j)\u001b[0m\n\u001b[1;32m      9\u001b[0m     \u001b[39mreturn\u001b[39;00m chercher(tab, n, m, j)\n\u001b[1;32m     10\u001b[0m \u001b[39melif\u001b[39;00m tab[m] \u001b[39m>\u001b[39m n:\n\u001b[0;32m---> 11\u001b[0m     \u001b[39mreturn\u001b[39;00m chercher(tab, n, i, m)\n\u001b[1;32m     12\u001b[0m \u001b[39melse\u001b[39;00m:\n\u001b[1;32m     13\u001b[0m     \u001b[39mreturn\u001b[39;00m tab[m]\n",
      "Cell \u001b[0;32mIn [22], line 9\u001b[0m, in \u001b[0;36mchercher\u001b[0;34m(tab, n, i, j)\u001b[0m\n\u001b[1;32m      7\u001b[0m m \u001b[39m=\u001b[39m (i \u001b[39m+\u001b[39m j) \u001b[39m/\u001b[39m\u001b[39m/\u001b[39m \u001b[39m2\u001b[39m\n\u001b[1;32m      8\u001b[0m \u001b[39mif\u001b[39;00m tab[m] \u001b[39m<\u001b[39m n:\n\u001b[0;32m----> 9\u001b[0m     \u001b[39mreturn\u001b[39;00m chercher(tab, n, m, j)\n\u001b[1;32m     10\u001b[0m \u001b[39melif\u001b[39;00m tab[m] \u001b[39m>\u001b[39m n:\n\u001b[1;32m     11\u001b[0m     \u001b[39mreturn\u001b[39;00m chercher(tab, n, i, m)\n",
      "Cell \u001b[0;32mIn [22], line 9\u001b[0m, in \u001b[0;36mchercher\u001b[0;34m(tab, n, i, j)\u001b[0m\n\u001b[1;32m      7\u001b[0m m \u001b[39m=\u001b[39m (i \u001b[39m+\u001b[39m j) \u001b[39m/\u001b[39m\u001b[39m/\u001b[39m \u001b[39m2\u001b[39m\n\u001b[1;32m      8\u001b[0m \u001b[39mif\u001b[39;00m tab[m] \u001b[39m<\u001b[39m n:\n\u001b[0;32m----> 9\u001b[0m     \u001b[39mreturn\u001b[39;00m chercher(tab, n, m, j)\n\u001b[1;32m     10\u001b[0m \u001b[39melif\u001b[39;00m tab[m] \u001b[39m>\u001b[39m n:\n\u001b[1;32m     11\u001b[0m     \u001b[39mreturn\u001b[39;00m chercher(tab, n, i, m)\n",
      "    \u001b[0;31m[... skipping similar frames: chercher at line 9 (2966 times)]\u001b[0m\n",
      "Cell \u001b[0;32mIn [22], line 9\u001b[0m, in \u001b[0;36mchercher\u001b[0;34m(tab, n, i, j)\u001b[0m\n\u001b[1;32m      7\u001b[0m m \u001b[39m=\u001b[39m (i \u001b[39m+\u001b[39m j) \u001b[39m/\u001b[39m\u001b[39m/\u001b[39m \u001b[39m2\u001b[39m\n\u001b[1;32m      8\u001b[0m \u001b[39mif\u001b[39;00m tab[m] \u001b[39m<\u001b[39m n:\n\u001b[0;32m----> 9\u001b[0m     \u001b[39mreturn\u001b[39;00m chercher(tab, n, m, j)\n\u001b[1;32m     10\u001b[0m \u001b[39melif\u001b[39;00m tab[m] \u001b[39m>\u001b[39m n:\n\u001b[1;32m     11\u001b[0m     \u001b[39mreturn\u001b[39;00m chercher(tab, n, i, m)\n",
      "Cell \u001b[0;32mIn [22], line 3\u001b[0m, in \u001b[0;36mchercher\u001b[0;34m(tab, n, i, j)\u001b[0m\n\u001b[1;32m      2\u001b[0m \u001b[39mdef\u001b[39;00m \u001b[39mchercher\u001b[39m(tab, n, i, j):\n\u001b[0;32m----> 3\u001b[0m     \u001b[39mif\u001b[39;00m i \u001b[39m<\u001b[39;49m \u001b[39m0\u001b[39;49m \u001b[39mor\u001b[39;00m j \u001b[39m>\u001b[39m \u001b[39mlen\u001b[39m(tab):\n\u001b[1;32m      4\u001b[0m         \u001b[39mreturn\u001b[39;00m \u001b[39mNone\u001b[39;00m\n\u001b[1;32m      5\u001b[0m     \u001b[39melif\u001b[39;00m i \u001b[39m>\u001b[39m j:\n",
      "\u001b[0;31mRecursionError\u001b[0m: maximum recursion depth exceeded in comparison"
     ]
    }
   ],
   "source": [
    "chercher([1, 5, 6, 6, 9, 12], 7, 0, 5)"
   ]
  }
 ],
 "metadata": {
  "kernelspec": {
   "display_name": "Python 3",
   "language": "python",
   "name": "python3"
  },
  "language_info": {
   "codemirror_mode": {
    "name": "ipython",
    "version": 3
   },
   "file_extension": ".py",
   "mimetype": "text/x-python",
   "name": "python",
   "nbconvert_exporter": "python",
   "pygments_lexer": "ipython3",
   "version": "3.8.13"
  },
  "orig_nbformat": 4,
  "vscode": {
   "interpreter": {
    "hash": "9ac03a0a6051494cc606d484d27d20fce22fb7b4d169f583271e11d5ba46a56e"
   }
  }
 },
 "nbformat": 4,
 "nbformat_minor": 2
}
