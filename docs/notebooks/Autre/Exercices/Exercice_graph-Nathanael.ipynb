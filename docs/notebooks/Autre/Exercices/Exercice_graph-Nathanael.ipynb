{
 "cells": [
  {
   "attachments": {},
   "cell_type": "markdown",
   "metadata": {},
   "source": [
    "# Activité David Roche :\n",
    "## 9.1 :\n",
    "````mermaid\n",
    "graph TD\n",
    "    A --- B\n",
    "    A --- E\n",
    "    B --- C\n",
    "    C --- F\n",
    "    C --- D\n",
    "    D --- F\n",
    "    D --- E\n",
    "    E --- F\n",
    "````\n",
    "## 9.2 :\n",
    "````python\n",
    "m = [[0, 1, 1, 1],\n",
    "     [1, 0, 0, 1],\n",
    "     [1, 0, 0, 0],\n",
    "     [1, 1, 0, 0]]\n",
    "````\n",
    "## 9.3 :\n",
    "````python\n",
    "l = {\"A\":(\"B\",\"C\",\"D\"), \"B\":(\"A\", \"D\"), \"C\":(\"A\"), \"D\":(\"A\")}\n",
    "````\n",
    "## 9.4 :\n",
    "#### Oui, il s'agit d'un graph orienté car certaines arrêtes ne sont valables que dans un sens.\n",
    "````mermaid\n",
    "graph TD\n",
    "    A ---> B\n",
    "    A ---> D\n",
    "    D ---> A\n",
    "    B ---> C\n",
    "    C ---> B\n",
    "    C ---> A\n",
    "````\n",
    "## 9.5 :\n",
    "````mermaid\n",
    "graph TD\n",
    "    A --- B\n",
    "    A --- C\n",
    "    A --- E\n",
    "    B --- E\n",
    "    C --- D\n",
    "````"
   ]
  }
 ],
 "metadata": {
  "language_info": {
   "name": "python"
  },
  "orig_nbformat": 4
 },
 "nbformat": 4,
 "nbformat_minor": 2
}
