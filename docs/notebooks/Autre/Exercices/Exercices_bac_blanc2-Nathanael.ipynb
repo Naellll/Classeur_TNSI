{
 "cells": [
  {
   "attachments": {},
   "cell_type": "markdown",
   "metadata": {},
   "source": [
    "# Polynésie jour 1 : "
   ]
  },
  {
   "attachments": {},
   "cell_type": "markdown",
   "metadata": {},
   "source": [
    "## Exercice 1 :\n",
    "\n",
    "### 1- a) Cette requête va générer une erreure étant donné que la clé primaire égale à 11 est déjà prise et que cette dernière doit rester unique.\n",
    "### b) L'attribut de téléphone ( VARCHAR(20) ) a été choisi car la table équipe n'aura jamais à prendre en compte de numéro de téléphone qui dépasserons 20 chiffres et que ces derniers seront espacés d'espaces.\n",
    "### c) La requête renverra : \"Lyon\", \"451 cours d’Emile Zola, 69100 Villeurbanne\", \"04 05 06 07 08\"\n",
    "### d) La requête renverra 5 qui est le nombre de lignes présentes dans le tableau.\n",
    "### e) SELECT nom FROM Equipe ORDER BY nom;\n",
    "### f) UPDATE Equipe SET nom = \"Tarbes\" WHERE id_equipe = 4;\n",
    "\n",
    "### 2- a) "
   ]
  },
  {
   "attachments": {},
   "cell_type": "markdown",
   "metadata": {},
   "source": [
    "## Exercice 2 : \n",
    "\n",
    "### 1- a) 11, 20, 32, 11, 20, 32, 11, 32, 11\n",
    "### b) 11, 20, 32, 11, 32\n",
    "\n",
    "### 2- a) \n",
    "liste_attente = [Processus(11, 4), Processus(20, 2), Processus(32, 3)]\n",
    "### b) \n",
    "```python\n",
    "def execute_un_cycle(self):\n",
    "    self.reste_a_faire -= 1\n",
    "\n",
    "def change_etat(self, nouvel_etat):\n",
    "    self.etat = nouvel_etat\n",
    "\n",
    "def est_termine(self):\n",
    "    return self.reste_a_faire <= 0\n",
    "```\n",
    "### c)\n",
    "```python\n",
    "def tourniquet(liste_attente, quantum):\n",
    "    ordre_execution = []\n",
    "    while liste_attente != []:\n",
    "        # On extrait le premier processus\n",
    "        processus = liste_attente.pop(0)\n",
    "        processus.change_etat(\"En cours d'exécution\")\n",
    "        compteur_tourniquet = 0\n",
    "        while quantum >= compteur_tourniquet and not processus.est_termine:\n",
    "            ordre_execution.append(processus.pid)\n",
    "            processus.execute_un_cycle()\n",
    "            compteur_tourniquet = compteur_tourniquet + 1\n",
    "        if not processus.est_termine():\n",
    "            processus.change_etat(\"Suspendu\")\n",
    "            liste_attente.append(processus)\n",
    "        else:\n",
    "            processus.change_etat(\"Terminé\")\n",
    "    return ordre_execution\n",
    "```\n",
    "\n"
   ]
  }
 ],
 "metadata": {
  "language_info": {
   "name": "python"
  },
  "orig_nbformat": 4
 },
 "nbformat": 4,
 "nbformat_minor": 2
}
