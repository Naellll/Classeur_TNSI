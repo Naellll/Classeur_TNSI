{
 "cells": [
  {
   "attachments": {},
   "cell_type": "markdown",
   "metadata": {},
   "source": [
    "## Exercice 3 :\n",
    "\n",
    "### 1)\n",
    "a. Non elle ne pourrait pas car cela pourrait poser problème si plusieurs joueurs avait le même nom or le but d'une clé primaire est qu'elle soit distincte de toute les autres.  \n",
    "b. id_liscencie\n",
    "### 2)\n",
    "a. Cette commande renvoie les nom et prénoms des joueurs de l'équipe -12 ans présents dans la table liscencies.  \n",
    "b. Une étoile renverrais l'intégralité des informations concernant l'équipe -12 ans de la table liscencies.\n",
    "c. SELECT date FROM matchs WHERE lieu = \"Domicile\"\n",
    "### 3)\n",
    "INSERT INTO liscencies (id_licencie, prenom, nom , annee_naissance , equipe) VALUES (287, \"Jean\", \"Lavenu\", 2001, \"Hommes 2\")\n",
    "### 4)\n",
    "UPDATE liscencies SET equipe = \"Vétérans\" WHERE prenom = \"Joseph\" AND nom = \"Cuviller\"\n",
    "### 5)\n",
    "SELECT nom FROM licencies\n",
    "JOIN Matchs ON licencies.equipe = matchs.equipe\n",
    "WHERE adversaire = \"LSC\" AND date = \"2021-06-19\""
   ]
  },
  {
   "attachments": {},
   "cell_type": "markdown",
   "metadata": {},
   "source": [
    "## Exercice 4 :\n",
    "\n",
    "### 1)\n",
    "a.  \n",
    "```Python\n",
    "assert arome in [\"fraise\", \"abricot\", \"vanille\", \"aucun\"], \"L'arome n'est pas compris dans la liste des arome disponible ; fraise, abricot, vanille ou aucun\"  \n",
    "assert DDM > 0 and DDM <= 365, \"La date de durabilité minimale n'est pas comprise entre 1 et 365\"  \n",
    "```\n",
    "b.  \n",
    "La valeur qui sera affectée à l’attribut genre sera aromatisé  \n",
    "c.\n",
    "```Python\n",
    "def GetArome(self):\n",
    "    return (self.__arome)\n",
    "```\n",
    "### 2)\n",
    "```Python\n",
    "def SetArome(self, arome):\n",
    "    self.__arome = arome\n",
    "    if self.arome == \"aucun\":\n",
    "        self.__genre = \"nature\"\n",
    "    else:\n",
    "        self.__genre = \"aromatisé\"\n",
    "```\n",
    "### 3)\n",
    "a.  \n",
    "```Python\n",
    "def empiler(p, yaourt):\n",
    "    return p.append(yaourt)\n",
    "```\n",
    "b.  \n",
    "```Python\n",
    "def depiler(p):\n",
    "    assert len(p) > 0, \"La pile est vide\"\n",
    "    return p[-1]\n",
    "```\n",
    "c.  \n",
    "```Python\n",
    "def estVide(p):\n",
    "    if len(p) == 0:\n",
    "        return True\n",
    "    else:\n",
    "        return False\n",
    "```\n",
    "d.  \n",
    "Le bloc de commande suivant renverra :\n",
    "```Python\n",
    "24\n",
    "False\n",
    "```"
   ]
  },
  {
   "attachments": {},
   "cell_type": "markdown",
   "metadata": {},
   "source": [
    "## Exercice 5 :\n",
    "### 1)\n",
    "a. Il comprend 2 déplacements vers le bas.  \n",
    "b. Le chemin est forcément composé de 2 déplacements vers le bas et 3 vers la droite ainsi que la case de départ : 3(droite)+2(bas)+1(départ) = 6  \n",
    "### 2)\n",
    "(0,0), (1,0), (2,0), (2,1), (2,2), (2,3) = 15\n",
    "### 3)\n",
    "a.  \n",
    "|a|b|c|d|\n",
    "|-|-|-|-|\n",
    "|4|5|6|9|\n",
    "|6|6|8|10|\n",
    "|9|10|15|16|\n",
    "\n",
    "b.  \n",
    "Si i = 0, alors on se déplacera sur une seule ligne. Ainsi, sachant qu'il n'y a qu'un chemin possible sur une seule ligne, T'[0][j] correspond bien à la valeur du chemin pour la dernière case additionner à la case en question. On a donc : T'[0][j] = T'[0][j-1] + T[0][j]\n",
    "### 4)\n",
    "Comme pour la question précédente, on recule d'une case avant T' mais cette fois le chemin étant sur plusieurs lignes et plusieurs colonnes, on utilise max() pour déterminer la case valant le plus entre celle de gauche et du dessus. Ainsi en additionnant à la case valant le plus précédant la case T'[i][j] et la case T[i][j], on obtient le meilleur chemin pour T'[i][j] :  \n",
    "T'[i][j] = T[i][j] + max(T'[i − 1][j], T'[i][j − 1])\n",
    "### 5)\n",
    "a.  \n",
    "Le cas de base est i = 0 et j = 0, dans ce cas on renvoie la valeur de T[0][0]  \n",
    "b."
   ]
  },
  {
   "cell_type": "code",
   "execution_count": 27,
   "metadata": {},
   "outputs": [],
   "source": [
    "def somme_max(T, i, j):\n",
    "    if i == 0 and j == 0:\n",
    "        return T[i][j]\n",
    "    elif i == 0:\n",
    "        return T[i][j] + somme_max(T, i, j-1)\n",
    "    elif j == 0:\n",
    "        return T[i][j] + somme_max(T, i-1, j)\n",
    "    else:\n",
    "        return T[i][j] + max(somme_max(T, i-1, j), somme_max(T, i, j-1))"
   ]
  },
  {
   "cell_type": "code",
   "execution_count": 7,
   "metadata": {},
   "outputs": [],
   "source": [
    "T = [[4, 1, 1, 3], [2, 0, 2, 1], [3, 1, 5, 1]]"
   ]
  },
  {
   "cell_type": "code",
   "execution_count": 30,
   "metadata": {},
   "outputs": [
    {
     "data": {
      "text/plain": [
       "9"
      ]
     },
     "execution_count": 30,
     "metadata": {},
     "output_type": "execute_result"
    }
   ],
   "source": [
    "# c.\n",
    "somme_max(T, 2, 3)"
   ]
  }
 ],
 "metadata": {
  "kernelspec": {
   "display_name": "Python 3",
   "language": "python",
   "name": "python3"
  },
  "language_info": {
   "codemirror_mode": {
    "name": "ipython",
    "version": 3
   },
   "file_extension": ".py",
   "mimetype": "text/x-python",
   "name": "python",
   "nbconvert_exporter": "python",
   "pygments_lexer": "ipython3",
   "version": "3.8.13"
  },
  "orig_nbformat": 4,
  "vscode": {
   "interpreter": {
    "hash": "110cc1dee26208153f2972f08a2ad52b6a56238dc66d48e87fb757ef2996db56"
   }
  }
 },
 "nbformat": 4,
 "nbformat_minor": 2
}
