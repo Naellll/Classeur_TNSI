{
 "cells": [
  {
   "attachments": {},
   "cell_type": "markdown",
   "metadata": {},
   "source": [
    "## Exercice 3 :\n",
    "\n",
    "### 1)\n",
    "a. Non elle ne pourrait pas car cela pourrait poser problème si plusieurs joueurs avait le même nom or le but d'une clé primaire est qu'elle soit distincte de toute les autres.  \n",
    "b. id_liscencie  \n",
    "### 2)\n",
    "a. Cette commande renvoie les nom et prénoms des joueurs de l'équipe -12 ans présents dans la table liscencies.  \n",
    "b. Une étoile renverrais l'intégralité des informations concernant l'équipe -12 ans de la table liscencies.\n",
    "c. SELECT date FROM matchs WHERE lieu = \"Domicile\"\n",
    "### 3)\n",
    "INSERT INTO liscencies (id_licencie, prenom, nom , annee_naissance , equipe) VALUES (287, \"Jean\", \"Lavenu\", 2001, \"Hommes 2\")\n",
    "### 4)\n",
    "UPDATE liscencies SET equipe = \"Vétérans\" WHERE prenom = \"Joseph\" AND nom = \"Cuviller\""
   ]
  }
 ],
 "metadata": {
  "kernelspec": {
   "display_name": "Python 3",
   "language": "python",
   "name": "python3"
  },
  "language_info": {
   "codemirror_mode": {
    "name": "ipython",
    "version": 3
   },
   "file_extension": ".py",
   "mimetype": "text/x-python",
   "name": "python",
   "nbconvert_exporter": "python",
   "pygments_lexer": "ipython3",
   "version": "3.8.13"
  },
  "orig_nbformat": 4,
  "vscode": {
   "interpreter": {
    "hash": "110cc1dee26208153f2972f08a2ad52b6a56238dc66d48e87fb757ef2996db56"
   }
  }
 },
 "nbformat": 4,
 "nbformat_minor": 2
}
