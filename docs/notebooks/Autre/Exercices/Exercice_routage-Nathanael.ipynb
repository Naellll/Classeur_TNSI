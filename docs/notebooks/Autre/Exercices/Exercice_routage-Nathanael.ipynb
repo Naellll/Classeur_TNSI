{
 "cells": [
  {
   "attachments": {},
   "cell_type": "markdown",
   "metadata": {},
   "source": [
    "## 1-Protocole de Routage"
   ]
  },
  {
   "attachments": {},
   "cell_type": "markdown",
   "metadata": {},
   "source": [
    "### 1)\n",
    "Table de G :\n",
    "|Destinataire|Passerelle|Coût|\n",
    "|-|-|-|\n",
    "|A|I-D|63|\n",
    "|B|H|59|\n",
    "|C|I-D|55|\n",
    "|D|I|51|\n",
    "|E|E|23|\n",
    "|F|F|39|\n",
    "|H|H|25|"
   ]
  },
  {
   "attachments": {},
   "cell_type": "markdown",
   "metadata": {},
   "source": [
    "### 2)\n",
    "a. Non  \n",
    "b. Oui  \n",
    "c. \n",
    "d.  \n",
    "![](https://github.com/Naellll/Classeur_TNSI/blob/main/docs/images/arbre_routage.PNG?raw=true)  \n",
    "e. Table de A :\n",
    "|Destinataire|Passerelle|Coût|\n",
    "|-|-|-|\n",
    "|B|B|1|\n",
    "|C|C|1|\n",
    "|D|B|2|\n",
    "|E|C|2|\n",
    "|F|C|3|\n",
    "|G|C|3|\n",
    "|H|C|2|"
   ]
  },
  {
   "attachments": {},
   "cell_type": "markdown",
   "metadata": {},
   "source": [
    "### 3)\n",
    "f.  \n",
    "![](https://github.com/Naellll/Classeur_TNSI/blob/main/docs/images/arbre_routage2.PNG?raw=true)  \n",
    "g. Table de A :\n",
    "|Destinataire|Passerelle|Coût|\n",
    "|-|-|-|\n",
    "|B|B|4|\n",
    "|C|B|6|\n",
    "|D|E|11|\n",
    "|E|E|5|\n",
    "|F|E|8|\n",
    "\n",
    "Table de D :\n",
    "|Destinataire|Passerelle|Coût|\n",
    "|-|-|-|\n",
    "|A|F|11|\n",
    "|B|F|9|\n",
    "|C|C|7|\n",
    "|E|F|6|\n",
    "|F|F|3|"
   ]
  }
 ],
 "metadata": {
  "kernelspec": {
   "display_name": "Python 3",
   "language": "python",
   "name": "python3"
  },
  "language_info": {
   "name": "python",
   "version": "3.8.13 (default, Oct  4 2022, 14:00:32) \n[GCC 9.4.0]"
  },
  "orig_nbformat": 4,
  "vscode": {
   "interpreter": {
    "hash": "9ac03a0a6051494cc606d484d27d20fce22fb7b4d169f583271e11d5ba46a56e"
   }
  }
 },
 "nbformat": 4,
 "nbformat_minor": 2
}
