{
 "cells": [
  {
   "attachments": {},
   "cell_type": "markdown",
   "metadata": {},
   "source": [
    "## 1-Protocole de Routage"
   ]
  },
  {
   "attachments": {},
   "cell_type": "markdown",
   "metadata": {},
   "source": [
    "1)\n",
    "Table de G :\n",
    "|Destinataire|Passerelle|Coût|\n",
    "|-|-|-|\n",
    "|A|I-D|63|\n",
    "|B|H|59|\n",
    "|C|I-D|55|\n",
    "|D|I|51|\n",
    "|E|E|23|\n",
    "|F|F|39|\n",
    "|H|H|25|"
   ]
  },
  {
   "attachments": {},
   "cell_type": "markdown",
   "metadata": {},
   "source": [
    "2)\n",
    "a. Non\n",
    "b. Oui\n",
    "c. ?\n",
    "d. "
   ]
  }
 ],
 "metadata": {
  "language_info": {
   "name": "python"
  },
  "orig_nbformat": 4
 },
 "nbformat": 4,
 "nbformat_minor": 2
}
