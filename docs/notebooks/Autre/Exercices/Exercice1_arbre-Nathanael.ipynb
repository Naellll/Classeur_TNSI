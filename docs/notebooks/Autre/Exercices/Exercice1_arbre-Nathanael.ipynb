{
 "cells": [
  {
   "attachments": {},
   "cell_type": "markdown",
   "metadata": {},
   "source": [
    "## Exercice 1 - arbres binaires :\n",
    "\n",
    "### 1)"
   ]
  },
  {
   "attachments": {},
   "cell_type": "markdown",
   "metadata": {},
   "source": [
    "a. Cet arbre contient 4 feuilles; 12, val, 21, 32.  \n",
    "b. Le sous-arbre gauche du noeud 23 contient 19, 21.  \n",
    "c. Cet arbre est de hauteur 4 et de taille 9.  \n",
    "d. Val peut être égal à 16 ou 17."
   ]
  },
  {
   "attachments": {},
   "cell_type": "markdown",
   "metadata": {},
   "source": [
    "### 2)"
   ]
  },
  {
   "attachments": {},
   "cell_type": "markdown",
   "metadata": {},
   "source": [
    "a. 12-13-15-16-18-19-21-23-32  \n",
    "b. 12-13-16-15-21-19-32-23-18"
   ]
  },
  {
   "attachments": {},
   "cell_type": "markdown",
   "metadata": {},
   "source": [
    "### 3)"
   ]
  },
  {
   "attachments": {},
   "cell_type": "markdown",
   "metadata": {},
   "source": [
    "a.  \n",
    "![](https://github.com/Naellll/Classeur_TNSI/blob/main/docs/images/arbre3.PNG?raw=true)  \n",
    "b.  \n",
    "racine = Noeud(18)  \n",
    "racine.insere_tout([15, 16, 13, 12, 23, 32, 19, 21])  \n",
    "c.  \n",
    "Bloc 3 (19 > 18) -> Bloc 2 (19 < 23) -> Bloc 1 (19 déjà inséré)"
   ]
  },
  {
   "cell_type": "code",
   "execution_count": null,
   "metadata": {},
   "outputs": [],
   "source": [
    "class Noeud():\n",
    "    def __init__(self, v):\n",
    "        self.ag = None\n",
    "        self.ad = None\n",
    "        self.v = v\n",
    "\n",
    "    def insere(self, v):\n",
    "        n = self\n",
    "        est_insere = False\n",
    "        while not est_insere :\n",
    "            if v == n.v:\n",
    "                est_insere = True\n",
    "            elif v < n.v:\n",
    "                if n.ag != None:\n",
    "                    n = n.ag\n",
    "                else:\n",
    "                    n.ag = Noeud(v)\n",
    "                    est_insere = True\n",
    "            else:\n",
    "                if n.ad != None:\n",
    "                    n = n.ad\n",
    "                else:\n",
    "                    n.ad = Noeud(v)\n",
    "                    est_insere = True\n",
    "\n",
    "    def insere_tout(self, vals):\n",
    "        for v in vals:\n",
    "            self.insere(v)\n",
    "\n",
    "\n",
    "    # Exercice 4 :\n",
    "\n",
    "    def recherche_iterative(self, v):\n",
    "        present = False\n",
    "        while not self is None:\n",
    "            if v == self.v:\n",
    "                present = True\n",
    "            if v < self.v:\n",
    "                self = self.ag\n",
    "            else:\n",
    "                self = self.ad\n",
    "        return present\n",
    "    \n",
    "    # def recherche(self, v):\n",
    "    #     if self is None:\n",
    "    #         return False\n",
    "    #     elif self.v ==  v:\n",
    "    #         return True\n",
    "    #     else :\n",
    "    #         return self.ag.recherche(v) or self.ad.recherche(v)"
   ]
  },
  {
   "cell_type": "code",
   "execution_count": null,
   "metadata": {},
   "outputs": [],
   "source": [
    "racine = Noeud(18)\n",
    "racine.insere_tout([12, 13, 15, 16, 19, 21, 32, 23])"
   ]
  },
  {
   "cell_type": "code",
   "execution_count": null,
   "metadata": {},
   "outputs": [],
   "source": [
    "racine.recherche_iterative(16)"
   ]
  },
  {
   "cell_type": "code",
   "execution_count": null,
   "metadata": {},
   "outputs": [],
   "source": [
    "racine.recherche(16)"
   ]
  }
 ],
 "metadata": {
  "kernelspec": {
   "display_name": "Python 3",
   "language": "python",
   "name": "python3"
  },
  "language_info": {
   "codemirror_mode": {
    "name": "ipython",
    "version": 3
   },
   "file_extension": ".py",
   "mimetype": "text/x-python",
   "name": "python",
   "nbconvert_exporter": "python",
   "pygments_lexer": "ipython3",
   "version": "3.8.13"
  },
  "orig_nbformat": 4,
  "vscode": {
   "interpreter": {
    "hash": "110cc1dee26208153f2972f08a2ad52b6a56238dc66d48e87fb757ef2996db56"
   }
  }
 },
 "nbformat": 4,
 "nbformat_minor": 2
}
