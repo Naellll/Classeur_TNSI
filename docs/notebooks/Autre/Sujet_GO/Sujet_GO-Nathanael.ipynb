{
 "cells": [
  {
   "attachments": {},
   "cell_type": "markdown",
   "metadata": {},
   "source": [
    "# Sujet Grand Oral :"
   ]
  },
  {
   "attachments": {},
   "cell_type": "markdown",
   "metadata": {},
   "source": [
    "### NSI : POO  \n",
    "### Math : X"
   ]
  },
  {
   "attachments": {},
   "cell_type": "markdown",
   "metadata": {},
   "source": [
    "#### Pistes NSI :\n",
    "- Algorithmes POO dans le domaine du jeu vidéo\n",
    "- Paradigme de programmation"
   ]
  }
 ],
 "metadata": {
  "language_info": {
   "name": "python"
  },
  "orig_nbformat": 4
 },
 "nbformat": 4,
 "nbformat_minor": 2
}
