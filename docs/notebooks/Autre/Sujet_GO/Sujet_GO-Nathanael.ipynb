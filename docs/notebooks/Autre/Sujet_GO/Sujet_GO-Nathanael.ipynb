{
 "cells": [
  {
   "attachments": {},
   "cell_type": "markdown",
   "metadata": {},
   "source": [
    "# Sujet Grand Oral :"
   ]
  },
  {
   "attachments": {},
   "cell_type": "markdown",
   "metadata": {},
   "source": [
    "### NSI : utilisation poo pour jeu vidéo\n",
    "### Math/NSI : Réccurence et récursivité"
   ]
  },
  {
   "attachments": {},
   "cell_type": "markdown",
   "metadata": {},
   "source": [
    "#### Plan NSI :\n",
    "- Introduction :\n",
    "programmation dans les jeux vidéos\n",
    "qu'est-ce que la POO ?\n",
    "question\n",
    "\n",
    "De nos jours, les jeux vidéos sont un divertissement partagé par de nombreuses personnes de tout âge et origine. En plus de réunir les "
   ]
  }
 ],
 "metadata": {
  "language_info": {
   "name": "python"
  },
  "orig_nbformat": 4
 },
 "nbformat": 4,
 "nbformat_minor": 2
}
