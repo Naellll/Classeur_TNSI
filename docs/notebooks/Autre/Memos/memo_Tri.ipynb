{
 "cells": [
  {
   "attachments": {},
   "cell_type": "markdown",
   "metadata": {},
   "source": [
    "# Les différentes méthodes de tri Python et leur complexité"
   ]
  },
  {
   "attachments": {},
   "cell_type": "markdown",
   "metadata": {},
   "source": [
    "Sujets :\n",
    "e1 s42 e2 s43 e1 s45\n",
    "tri en plus :\n",
    "fusion et bulle"
   ]
  },
  {
   "attachments": {},
   "cell_type": "markdown",
   "metadata": {},
   "source": [
    "https://pixees.fr/informatiquelycee/n_site/nsi_prem_tri_algo.html"
   ]
  },
  {
   "attachments": {},
   "cell_type": "markdown",
   "metadata": {},
   "source": [
    "#### Les algorithmes de tri des éléments d'un tableau ont une place à part en algorithmique, les deux algorithmes de tri les plus classiques sont :  \n",
    "#### - le tri par insertion,\n",
    "#### - le tri par sélection."
   ]
  },
  {
   "attachments": {},
   "cell_type": "markdown",
   "metadata": {},
   "source": [
    "## 1- Le tri par insertion :"
   ]
  },
  {
   "attachments": {},
   "cell_type": "markdown",
   "metadata": {},
   "source": [
    "### Fonctionnement :\n",
    "##### On parcours l'ensemble de la liste et dès qu'un élément \"x\" est inférieur au précédent, les deux sont échangés et l'on vérifie si le nouvel élément précédent \"x\" lui soit bien inférieur sinon ils sont encore une fois échangé et ce jusqu'à ce que \"x\" soit bien inférieur à l'élément suivant, qu'il soit trié. Ensuite le parcours de la liste reprend et applique la méthode vue précédament jusqu'à ce que la liste soit entièrement parcourue.\n",
    "\n",
    "### Ce shéma explique la méthode utilisée par le tri par insertion :\n",
    "![](https://pixees.fr/informatiquelycee/n_site/img/nsi_prem_algo_tri_2.png)\n",
    "### Implémentation du programme de tri par insertion de David Roche :"
   ]
  },
  {
   "cell_type": "code",
   "execution_count": 1,
   "metadata": {},
   "outputs": [],
   "source": [
    "def tri_par_insertion(tab:list)->list:\n",
    "    j = 1\n",
    "    while j < len(tab): # boucle qui parcours l'ensemble de \"tab\"\n",
    "        i = j-1 # i l'indice qui commence au rang 0 (= j-1)\n",
    "        k = tab[j] # k prend l'élément au rang j (= i+1)\n",
    "        while i>=0 and tab[i] > k: # une seconde boucle qui vérifie que l'élément tab[i] est bien inférieur à k (tab[i+1])\n",
    "            tab[i+1] = tab[i] # si tab[i] > k (tab[i+1]) on pose tab[i+1] = tab[i]\n",
    "            i -= 1 # on diminue i de 1 en 1 jusqu'à 0 (arrêt de la boucle while)\n",
    "        tab[i+1] = k # lorsque i = 0 on remet k dans tab[i+1]\n",
    "        j += 1 # on avance alors de 1 dans la liste et on répète le processus\n",
    "    return tab"
   ]
  },
  {
   "cell_type": "code",
   "execution_count": 11,
   "metadata": {},
   "outputs": [
    {
     "data": {
      "text/plain": [
       "[8, 10, 11, 12, 27]"
      ]
     },
     "execution_count": 11,
     "metadata": {},
     "output_type": "execute_result"
    }
   ],
   "source": [
    "tab = [27, 10, 12, 8, 11]\n",
    "tri_par_insertion(tab)"
   ]
  },
  {
   "attachments": {},
   "cell_type": "markdown",
   "metadata": {},
   "source": [
    "### Ma propre version du tri par insertion :"
   ]
  },
  {
   "cell_type": "code",
   "execution_count": 9,
   "metadata": {},
   "outputs": [],
   "source": [
    "def mon_tri_par_insertion(tab:list)->list:\n",
    "    for parcours in range(len(tab)-1):\n",
    "        x = 0\n",
    "        if tab[parcours] > tab[parcours+1]:\n",
    "            while tab[parcours-x] > tab[parcours-x+1] and parcours-x >= 0:\n",
    "                tab[parcours-x+1], tab[parcours-x] = tab[parcours-x], tab[parcours-x+1]\n",
    "                x += 1\n",
    "    return tab"
   ]
  },
  {
   "cell_type": "code",
   "execution_count": 10,
   "metadata": {},
   "outputs": [
    {
     "data": {
      "text/plain": [
       "[8, 10, 11, 12, 27]"
      ]
     },
     "execution_count": 10,
     "metadata": {},
     "output_type": "execute_result"
    }
   ],
   "source": [
    "tab = [27, 10, 12, 8, 11]\n",
    "mon_tri_par_insertion(tab)"
   ]
  },
  {
   "attachments": {},
   "cell_type": "markdown",
   "metadata": {},
   "source": [
    "### Nous avons donc pu voir deux versions du tri par insertion, maintenant nous allons parler de leur complexité :\n",
    "\n",
    "##### Pour rappel : La complexité algorithmique d’un programme informatique est d’une importance majeure. En effet, c’est elle qui permet de vérifier l’efficacité de ce dernier. Vous l’aurez donc compris, la complexité algorithmique est une grandeur : cela peut être un nombre, mais c’est très souvent un ordre de grandeur.\n",
    "\n",
    "### Il existe également 2 façon de mesurer la complexité d'un algorithme :\n",
    "### 1- Avec TimeIT (dans un cas spécifique uniquement) : "
   ]
  },
  {
   "cell_type": "code",
   "execution_count": 15,
   "metadata": {},
   "outputs": [
    {
     "name": "stdout",
     "output_type": "stream",
     "text": [
      "1.32 µs ± 1.88 ns per loop (mean ± std. dev. of 7 runs, 1,000,000 loops each)\n"
     ]
    }
   ],
   "source": [
    "tab = [27, 10, 12, 8, 11]\n",
    "%timeit tri_par_insertion(tab)"
   ]
  },
  {
   "cell_type": "code",
   "execution_count": 16,
   "metadata": {},
   "outputs": [
    {
     "name": "stdout",
     "output_type": "stream",
     "text": [
      "824 ns ± 14.3 ns per loop (mean ± std. dev. of 7 runs, 1,000,000 loops each)\n"
     ]
    }
   ],
   "source": [
    "tab = [27, 10, 12, 8, 11]\n",
    "%timeit mon_tri_par_insertion(tab)"
   ]
  },
  {
   "attachments": {},
   "cell_type": "markdown",
   "metadata": {},
   "source": [
    "![](https://images.schoolmouv.fr/4e-maths-c23-img01.png)\n",
    "#### TimeIT nous donne une grandeur en temps : 1,32 micro seconde contre 824 nano seconde pour mon programme.\n",
    "### 2- De façon mathématique (plus générale) :\n",
    "#### Shéma exemple :\n",
    "![](https://pixees.fr/informatiquelycee/n_site/img/nsi_prem_algo_tri_4.png)\n",
    "#### Pour un tableau de **longueur 5** nous avons donc **10 déplacements** : 1+2+3+4\n",
    "\n",
    "#### Résonnement :\n",
    "#### Pour un tableau de n éléments nous avons donc : 1 + 2 + 3  ...  n-3 + n-2 + n-1 déplacements\n",
    "#### Ainsi : S = 1 + 2 + 3 ... n-3 + n-2 + n-1\n",
    "#### Mais en l'inversant on aurait : S' = n-1 + n-2 + n-2  ...  3 + 2 + 1 avec S = S'\n",
    "#### Or, S + S' = n-1+1 + n-2+2 + n-3+3  ...  n-3+3 + n-2+2 + n-1+1\n",
    "#### = n + n + n  ...  n + n + n\n",
    "#### On peut donc en déduire que :\n",
    "#### S + S' = 2S = n(n-1)\n",
    "#### Donc S = n(n-1)/2 = n²-n/2 = n²/2 - n/2"
   ]
  },
  {
   "attachments": {},
   "cell_type": "markdown",
   "metadata": {},
   "source": [
    "## 2- Le tri par selection :"
   ]
  },
  {
   "attachments": {},
   "cell_type": "markdown",
   "metadata": {},
   "source": [
    "### Fonctionnement :\n",
    "##### On parcours l'ensemble de la liste pour trouver un minimum et on le déplace au début de la liste puis on la reparcours à partir du deuxième élément (d'indice 1) et on répète le processus.\n",
    "\n",
    "### Ce shéma explique la méthode utilisée par le tri par selection :\n",
    "![](https://pixees.fr/informatiquelycee/n_site/img/nsi_prem_algo_tri_6.png)\n",
    "### Implémentation du programme de tri par selection de David Roche :"
   ]
  },
  {
   "cell_type": "code",
   "execution_count": 17,
   "metadata": {},
   "outputs": [],
   "source": [
    "def tri_par_selection(tab:list)->list:\n",
    "    i = 0\n",
    "    while i < len(tab): # première boucle qui parcours la liste\n",
    "        j = i+1 # j plus grand que i de 1\n",
    "        min = i # minimum est i pour le moment\n",
    "        while j < len(tab): # seconde boucle pour chercher le minimum\n",
    "            if tab[j] < tab[min]: # si un élément est plus petit que l'ancien minimum,\n",
    "                min = j # il prend sa place\n",
    "            j += 1 # on incrément j pour parcourir la liste\n",
    "        if min != i: # si le minimum à changé,\n",
    "            tab[i], tab[min] = tab[min], tab[i] # on le déplace au début de la liste\n",
    "        i += 1 # on incrément i pour parcourir la liste\n",
    "    return tab"
   ]
  },
  {
   "cell_type": "code",
   "execution_count": 18,
   "metadata": {},
   "outputs": [
    {
     "data": {
      "text/plain": [
       "[8, 10, 11, 12, 27]"
      ]
     },
     "execution_count": 18,
     "metadata": {},
     "output_type": "execute_result"
    }
   ],
   "source": [
    "tab = [27, 10, 12, 8, 11]\n",
    "tri_par_selection(tab)"
   ]
  },
  {
   "attachments": {},
   "cell_type": "markdown",
   "metadata": {},
   "source": [
    "### Ma propre version du tri par selection :"
   ]
  },
  {
   "cell_type": "code",
   "execution_count": 22,
   "metadata": {},
   "outputs": [],
   "source": [
    "def mon_tri_par_selection(tab:list)->list:\n",
    "    x = 0\n",
    "    for indice in range(len(tab)):\n",
    "        minimum = tab[x]\n",
    "        indice_mini = x\n",
    "        for j in range (x, len(tab)):\n",
    "            if tab[j] < minimum:\n",
    "                minimum = tab[j]\n",
    "                indice_mini = j\n",
    "        tab[x], tab[indice_mini] = tab[indice_mini], tab[x]\n",
    "        x += 1\n",
    "    return tab"
   ]
  },
  {
   "cell_type": "code",
   "execution_count": 23,
   "metadata": {},
   "outputs": [
    {
     "data": {
      "text/plain": [
       "[8, 10, 11, 12, 27]"
      ]
     },
     "execution_count": 23,
     "metadata": {},
     "output_type": "execute_result"
    }
   ],
   "source": [
    "tab = [27, 10, 12, 8, 11]\n",
    "mon_tri_par_selection(tab)"
   ]
  },
  {
   "attachments": {},
   "cell_type": "markdown",
   "metadata": {},
   "source": [
    "### Leur complexité :\n",
    "### 1- Avec TimeIT :"
   ]
  },
  {
   "cell_type": "code",
   "execution_count": 24,
   "metadata": {},
   "outputs": [
    {
     "name": "stdout",
     "output_type": "stream",
     "text": [
      "3.05 µs ± 45.7 ns per loop (mean ± std. dev. of 7 runs, 100,000 loops each)\n"
     ]
    }
   ],
   "source": [
    "tab = [27, 10, 12, 8, 11]\n",
    "%timeit tri_par_selection(tab)"
   ]
  },
  {
   "cell_type": "code",
   "execution_count": 25,
   "metadata": {},
   "outputs": [
    {
     "name": "stdout",
     "output_type": "stream",
     "text": [
      "3.5 µs ± 33.1 ns per loop (mean ± std. dev. of 7 runs, 100,000 loops each)\n"
     ]
    }
   ],
   "source": [
    "tab = [27, 10, 12, 8, 11]\n",
    "%timeit mon_tri_par_selection(tab)"
   ]
  },
  {
   "attachments": {},
   "cell_type": "markdown",
   "metadata": {},
   "source": [
    "#### On trouve donc 3,05 micro seconde contre 3.5 nano seconde pour mon programme.\n",
    "### 2- De façon mathématique :\n",
    "#### Lors de la première boucle, nous avons pour un tableau de longueur 5, **4 comparaisons** : e1 avec e2, e1 avec e3 etc.\n",
    "#### Puis on répète le processus cette fois en commençant au premier élément : e2 avec e3, e2 avec e4 etc. on a donc **3 comparaison**\n",
    "#### Et ainsi de suite ce qui nous donne pour un tableau de longueur 5 un total de **10 comparaisons** : 4 + 3 + 2 + 1\n",
    "#### On remarquera la similarité avec le tri par insertion mais cette fois il s'agit de comparaisons et non de déplacements !\n",
    "#### Ainsi avec le même résonnement que pour le tri par insertion, on trouve également S = n²/2 - n/2\n",
    "### Nous avons donc pu voir que le tri par insertion est moins complexe que celui par selection ainsi que leur fonctionnements."
   ]
  },
  {
   "attachments": {},
   "cell_type": "markdown",
   "metadata": {},
   "source": [
    "#### Lors de la première boucle, nous avons pour un tableau de longueur 5, **4 comparaisons** : e1 avec e2, e1 avec e3 etc.\n",
    "#### Puis on répète le processus cette fois en commençant au premier élément : e2 avec e3, e2 avec e4 etc. on a donc **3 comparaison**\n",
    "#### Et ainsi de suite ce qui nous donne pour un tableau de longueur 5 un total de **10 comparaisons** : 4 + 3 + 2 + 1\n",
    "#### On remarquera la similarité avec le tri par insertion mais cette fois il s'agit de comparaisons et non de déplacements !\n",
    "#### Ainsi avec le même résonnement que pour le tri par insertion, on trouve également S = n²/2 - n/2\n",
    "### Nous avons donc pu voir que le tri par insertion est moins complexe que celui par selection ainsi que leur fonctionnements."
   ]
  },
  {
   "attachments": {},
   "cell_type": "markdown",
   "metadata": {},
   "source": [
    "## Il existe également deux autres types de tri :\n",
    "### - le tri par fusion,\n",
    "### - le tri par bulle."
   ]
  },
  {
   "attachments": {},
   "cell_type": "markdown",
   "metadata": {},
   "source": [
    "## 1- Le tri par fusion :"
   ]
  },
  {
   "attachments": {},
   "cell_type": "markdown",
   "metadata": {},
   "source": [
    "### Fonctionnement :\n",
    "##### X\n",
    "\n",
    "### Ce shéma explique la méthode utilisée par le tri par fusion :\n",
    "![](https://upload.wikimedia.org/wikipedia/commons/6/60/Mergesort_algorithm_diagram.png)"
   ]
  },
  {
   "cell_type": "code",
   "execution_count": null,
   "metadata": {},
   "outputs": [],
   "source": [
    "def fusion(L1,L2):\n",
    "    n1 = len(L1)\n",
    "    n2 = len(L2)\n",
    "    L12 = [0]*(n1+n2)\n",
    "    i1 = 0\n",
    "    i2 = 0\n",
    "    i = 0\n",
    "    while i1<n1 and i2<n2:\n",
    "        if L1[i1] < L2[i2]:\n",
    "            L12[i] = L1[i1]\n",
    "            i1 += 1\n",
    "        else:\n",
    "            L12[i] = L2[i2]\n",
    "            i2 += 1\n",
    "        i += 1\n",
    "    while i1<n1:\n",
    "    \tL12[i] = L1[i1]\n",
    "    \ti1 += 1\n",
    "    \ti += 1\n",
    "    while i2<n2:\n",
    "    \tL12[i] = L2[i2]\n",
    "    \ti2 += 1\n",
    "    \ti += 1 \n",
    "    return L12"
   ]
  }
 ],
 "metadata": {
  "kernelspec": {
   "display_name": "Python 3",
   "language": "python",
   "name": "python3"
  },
  "language_info": {
   "codemirror_mode": {
    "name": "ipython",
    "version": 3
   },
   "file_extension": ".py",
   "mimetype": "text/x-python",
   "name": "python",
   "nbconvert_exporter": "python",
   "pygments_lexer": "ipython3",
   "version": "3.8.16"
  },
  "orig_nbformat": 4,
  "vscode": {
   "interpreter": {
    "hash": "6823027d7e29b41a4e6f28161e95b4dfbe0e8b9a6a7278f50ef7cf75c6459dbe"
   }
  }
 },
 "nbformat": 4,
 "nbformat_minor": 2
}
