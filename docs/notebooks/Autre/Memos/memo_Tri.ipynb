{
 "cells": [
  {
   "attachments": {},
   "cell_type": "markdown",
   "metadata": {},
   "source": [
    "# Les différentes méthodes de tri Python et leur complexité"
   ]
  },
  {
   "attachments": {},
   "cell_type": "markdown",
   "metadata": {},
   "source": [
    "Sujets :\n",
    "e1 s42 e2 s43 e1 s45"
   ]
  },
  {
   "attachments": {},
   "cell_type": "markdown",
   "metadata": {},
   "source": [
    "#### Les algorithmes de tri des éléments d'un tableau ont une place à part en algorithmique, les deux algorithmes les plus classiques sont :  \n",
    "#### - le tri par insertion\n",
    "#### - le tri par sélection."
   ]
  },
  {
   "attachments": {},
   "cell_type": "markdown",
   "metadata": {},
   "source": [
    "## 1- Le tri par insertion :"
   ]
  },
  {
   "attachments": {},
   "cell_type": "markdown",
   "metadata": {},
   "source": [
    "#### On parcours l'ensemble de la liste et dès qu'un élément \"x\" est inférieur au précédent, les deux sont échangés et l'on vérifie si le nouvel élément précédent \"x\" lui soit bien inférieur sinon ils sont encore une fois échangé et ce jusqu'à ce que \"x\" soit bien inférieur à l'élément suivant, qu'il soit trié. Ensuite le parcours de la liste reprend et applique la méthode vue précédament jusqu'à ce que la liste soit entièrement parcourue.\n",
    "\n",
    "#### Ce shéma explique la méthode utilisée par cet algorithme de tri :"
   ]
  },
  {
   "attachments": {},
   "cell_type": "markdown",
   "metadata": {},
   "source": [
    "![](https://pixees.fr/informatiquelycee/n_site/img/nsi_prem_algo_tri_2.png)"
   ]
  },
  {
   "cell_type": "code",
   "execution_count": 23,
   "metadata": {},
   "outputs": [],
   "source": [
    "def tri_par_insertion(tab:list)->list:\n",
    "    j = 1\n",
    "    while j < len(tab):\n",
    "        i = j-1\n",
    "        k = tab[j]\n",
    "        while i>=0 and tab[i] > k:\n",
    "            tab[i+1] = tab[i]\n",
    "            i -= 1\n",
    "        tab[i+1] = k\n",
    "        j += 1\n",
    "    return tab"
   ]
  },
  {
   "cell_type": "code",
   "execution_count": 24,
   "metadata": {},
   "outputs": [
    {
     "data": {
      "text/plain": [
       "[8, 10, 11, 12, 27]"
      ]
     },
     "execution_count": 24,
     "metadata": {},
     "output_type": "execute_result"
    }
   ],
   "source": [
    "tab = [27, 10, 12, 8, 11]\n",
    "tri_par_insertion(tab)"
   ]
  },
  {
   "attachments": {},
   "cell_type": "markdown",
   "metadata": {},
   "source": [
    "## 2- Le tri par selection :"
   ]
  },
  {
   "cell_type": "code",
   "execution_count": 29,
   "metadata": {},
   "outputs": [],
   "source": [
    "def tri_par_selection(tab:list)->list:\n",
    "    i = 0\n",
    "    while i < len(tab):\n",
    "        j = i+1\n",
    "        min = i\n",
    "        while j < len(tab):\n",
    "            if tab[j] < tab[min]:\n",
    "                min = j\n",
    "            j += 1\n",
    "        if min != i:\n",
    "            tab[i], tab[min] = tab[min], tab[i]\n",
    "        i += 1\n",
    "    return tab"
   ]
  },
  {
   "cell_type": "code",
   "execution_count": 30,
   "metadata": {},
   "outputs": [
    {
     "data": {
      "text/plain": [
       "[8, 10, 11, 12, 27]"
      ]
     },
     "execution_count": 30,
     "metadata": {},
     "output_type": "execute_result"
    }
   ],
   "source": [
    "tab = [27, 10, 12, 8, 11]\n",
    "tri_par_selection(tab)"
   ]
  }
 ],
 "metadata": {
  "kernelspec": {
   "display_name": "Python 3",
   "language": "python",
   "name": "python3"
  },
  "language_info": {
   "codemirror_mode": {
    "name": "ipython",
    "version": 3
   },
   "file_extension": ".py",
   "mimetype": "text/x-python",
   "name": "python",
   "nbconvert_exporter": "python",
   "pygments_lexer": "ipython3",
   "version": "3.8.16"
  },
  "orig_nbformat": 4,
  "vscode": {
   "interpreter": {
    "hash": "6823027d7e29b41a4e6f28161e95b4dfbe0e8b9a6a7278f50ef7cf75c6459dbe"
   }
  }
 },
 "nbformat": 4,
 "nbformat_minor": 2
}
