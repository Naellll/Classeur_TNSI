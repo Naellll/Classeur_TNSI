{
 "cells": [
  {
   "cell_type": "code",
   "execution_count": 1,
   "metadata": {},
   "outputs": [
    {
     "ename": "ImportError",
     "evalue": "libSDL2-2.0.so.0: cannot open shared object file: No such file or directory",
     "output_type": "error",
     "traceback": [
      "\u001b[0;31m---------------------------------------------------------------------------\u001b[0m",
      "\u001b[0;31mImportError\u001b[0m                               Traceback (most recent call last)",
      "Cell \u001b[0;32mIn[1], line 1\u001b[0m\n\u001b[0;32m----> 1\u001b[0m \u001b[39mimport\u001b[39;00m \u001b[39mpyxel\u001b[39;00m\n",
      "File \u001b[0;32m~/.python/current/lib/python3.10/site-packages/pyxel/__init__.py:1\u001b[0m\n\u001b[0;32m----> 1\u001b[0m \u001b[39mfrom\u001b[39;00m \u001b[39m.\u001b[39;00m\u001b[39mpyxel_extension\u001b[39;00m \u001b[39mimport\u001b[39;00m \u001b[39m*\u001b[39m  \u001b[39m# type: ignore  # noqa F403\u001b[39;00m\n",
      "\u001b[0;31mImportError\u001b[0m: libSDL2-2.0.so.0: cannot open shared object file: No such file or directory"
     ]
    },
    {
     "name": "stderr",
     "output_type": "stream",
     "text": [
      "Bad pipe message: %s [b'{\\x91\\xf8\\xc1YJq\\xe7\\xc7\\xe3q\\xa4\\x93\\xfe\\xdb\\x88\\xf00 o.\\xbe\\xf1\\xae\\xc8\\x9a<\\xbc\\x07\\x9c\\xfe\\x19\\xe4\\x03\\x0e\\x1c\\xf6m@V\\xd2\\x96\\x1b\\x12\\xbeV\\x12\\xdd']\n",
      "Bad pipe message: %s [b'\\x98\\x82\\x1e\\xfaR \\xedK\\xfa`\\xe6\\xa8\\x8b\\xdb$\\xf0\\xdc\\xcb\\x00\\x00>\\xc0\\x14\\xc0\\n\\x009\\x008\\x007\\x006\\xc0\\x0f\\xc0\\x05\\x005\\xc0\\x13\\xc0\\t\\x003\\x002\\x001\\x000\\xc0\\x0e\\xc0\\x04\\x00/\\x00\\x9a\\x00\\x99\\x00\\x98\\x00\\x97\\x00\\x96\\x00\\x07\\xc0\\x11\\xc0\\x07\\xc0\\x0c\\xc0\\x02\\x00\\x05\\x00\\x04\\x00\\xff\\x02\\x01\\x00\\x00C\\x00\\x00\\x00\\x0e\\x00\\x0c\\x00\\x00\\t127.0.0.1\\x00\\x0b\\x00\\x04\\x03\\x00\\x01\\x02\\x00\\n\\x00\\x1c\\x00\\x1a\\x00\\x17\\x00\\x19\\x00\\x1c\\x00\\x1b\\x00\\x18\\x00', b'\\x16\\x00\\x0e\\x00\\r\\x00\\x0b\\x00\\x0c\\x00\\t\\x00\\n\\x00#\\x00\\x00\\x00\\x0f\\x00\\x01\\x01\\x15\\x03\\x02']\n",
      "Bad pipe message: %s [b'\\x1e\\xb7\\xd54&.\\xfb\\x02d>TR9h\\xb2\\xcc\\x81\\xc1\\x00\\x00\\xa2\\xc0\\x14\\xc0\\n']\n",
      "Bad pipe message: %s [b'\\xc9\\xa7\\xa4/:\\xac\\xe1\\x9b\\xf2t{{@nF0O\\x99\\x00\\x00\\xa2\\xc0\\x14\\xc0\\n\\x009\\x008\\x007\\x006\\x00\\x88\\x00\\x87\\x00\\x86\\x00\\x85\\xc0\\x19\\x00:\\x00\\x89\\xc0\\x0f\\xc0\\x05\\x005\\x00\\x84\\xc0\\x13\\xc0\\t\\x003\\x002\\x001\\x000\\x00']\n",
      "Bad pipe message: %s [b'\\x99\\x00\\x98\\x00\\x97\\x00E\\x00D\\x00C\\x00B\\xc0\\x18\\x004\\x00\\x9b\\x00F\\xc0\\x0e\\xc0\\x04\\x00/\\x00\\x96\\x00A\\x00\\x07\\xc0\\x11\\xc0\\x07\\xc0\\x16\\x00\\x18\\xc0\\x0c\\xc0\\x02\\x00\\x05\\x00\\x04\\xc0\\x12\\xc0\\x08\\x00\\x16\\x00\\x13\\x00\\x10\\x00\\r\\xc0\\x17\\x00\\x1b\\xc0\\r\\xc0\\x03\\x00\\n\\x00\\x15\\x00\\x12\\x00\\x0f\\x00\\x0c\\x00\\x1a\\x00\\t\\x00\\x14\\x00\\x11\\x00\\x19\\x00\\x08\\x00\\x06\\x00\\x17\\x00\\x03\\xc0\\x10\\xc0\\x06\\xc0\\x15\\xc0\\x0b\\xc0\\x01\\x00\\x02\\x00\\x01\\x00\\xff\\x02\\x01\\x00\\x00C\\x00\\x00\\x00\\x0e\\x00\\x0c\\x00\\x00\\t127.0.0.1\\x00\\x0b\\x00\\x04\\x03\\x00\\x01\\x02\\x00\\n\\x00\\x1c\\x00\\x1a\\x00\\x17\\x00']\n",
      "Bad pipe message: %s [b'\\x1c\\x00\\x1b\\x00\\x18\\x00\\x1a\\x00\\x16\\x00\\x0e\\x00\\r\\x00\\x0b\\x00\\x0c\\x00\\t\\x00\\n\\x00#\\x00']\n",
      "Bad pipe message: %s [b\"\\xbeVy]9O9\\xad\\x14\\xa3X\\x1b\\xb5\\x9e\\xfa\\x94r.\\x00\\x00\\x86\\xc00\\xc0,\\xc0(\\xc0$\\xc0\\x14\\xc0\\n\\x00\\xa5\\x00\\xa3\\x00\\xa1\\x00\\x9f\\x00k\\x00j\\x00i\\x00h\\x009\\x008\\x007\\x006\\xc02\\xc0.\\xc0*\\xc0&\\xc0\\x0f\\xc0\\x05\\x00\\x9d\\x00=\\x005\\xc0/\\xc0+\\xc0'\\xc0#\\xc0\\x13\\xc0\\t\\x00\\xa4\\x00\\xa2\\x00\\xa0\\x00\\x9e\\x00g\\x00@\"]\n"
     ]
    }
   ],
   "source": [
    "# Pyxel Studio\n",
    "import pyxel\n",
    "from random import randint\n",
    "\n",
    "TITLE = \"snake\"\n",
    "WIDTH = 200\n",
    "HEIGHT = 160\n",
    "CASE = 20\n",
    "FRAME_REFRESH = 15\n",
    "score = 0\n",
    "snake = [[3,3], [3,2], [3,1]]\n",
    "head = snake[0]\n",
    "direction = [0,1]\n",
    "food = [8, 3]\n",
    "\n",
    "pyxel.init(WIDTH, HEIGHT, title=TITLE)\n",
    "\n",
    "\n",
    "def draw():\n",
    "    pyxel.cls(0)\n",
    "    \n",
    "    for anneau in snake[1:]:\n",
    "        x, y = anneau[0], anneau[1]\n",
    "        pyxel.rect(x*CASE, y*CASE, CASE, CASE, 11)\n",
    "    \n",
    "    x_head, y_head = snake[0]\n",
    "    pyxel.rect(x_head*CASE, y_head*CASE, CASE, CASE, 9)\n",
    "    \n",
    "    x_food, y_food = food\n",
    "    pyxel.rect(x_food*CASE, y_food*CASE, CASE, CASE, 8)\n",
    "    \n",
    "    pyxel.text(4, 4, f\"SCORE : {score}\", 7)\n",
    "\n",
    "\n",
    "def update():\n",
    "    #variables globales :\n",
    "    global direction\n",
    "    global snake\n",
    "    global head\n",
    "    global score\n",
    "    global food\n",
    "    \n",
    "    #modification de \"head\" et déplacement :\n",
    "    if pyxel.frame_count % FRAME_REFRESH == 0:\n",
    "        head = [snake[0][0] + direction[0], snake[0][1] + direction[1]]\n",
    "        snake.insert(0, head)\n",
    "        if head != food:\n",
    "            snake.pop(-1)\n",
    "        \n",
    "    #changements de direction :\n",
    "    if pyxel.btn(pyxel.KEY_ESCAPE):\n",
    "        exit()\n",
    "    elif pyxel.btn(pyxel.KEY_D) and direction in ([0, 1], [0, -1]):\n",
    "        direction = [1, 0]\n",
    "    elif pyxel.btn(pyxel.KEY_Q) and direction in ([0, 1], [0, -1]):\n",
    "        direction = [-1, 0]\n",
    "    elif pyxel.btn(pyxel.KEY_Z) and direction in ([1, 0], [-1, 0]):\n",
    "        direction = [0, -1]\n",
    "    elif pyxel.btn(pyxel.KEY_S) and direction in ([1, 0], [-1, 0]):\n",
    "        direction = [0, 1]\n",
    "        \n",
    "    #le serpent mange la pomme :\n",
    "    if head == food:\n",
    "        score += 1\n",
    "        while food in snake:\n",
    "            food = [randint(0, WIDTH/CASE-1), randint(0, HEIGHT/CASE-1)]\n",
    "    \n",
    "    #cas de défaite :    \n",
    "    if head in snake[1:] or head[0] < 0 or head[0] >= WIDTH/CASE or head[1] < 0 or head[1] >= HEIGHT/CASE:\n",
    "        pyxel.quit()\n",
    "\n",
    "\n",
    "pyxel.run(update, draw)"
   ]
  }
 ],
 "metadata": {
  "kernelspec": {
   "display_name": "Python 3",
   "language": "python",
   "name": "python3"
  },
  "language_info": {
   "codemirror_mode": {
    "name": "ipython",
    "version": 3
   },
   "file_extension": ".py",
   "mimetype": "text/x-python",
   "name": "python",
   "nbconvert_exporter": "python",
   "pygments_lexer": "ipython3",
   "version": "3.10.4"
  },
  "orig_nbformat": 4
 },
 "nbformat": 4,
 "nbformat_minor": 2
}
