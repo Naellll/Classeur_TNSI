{
 "cells": [
  {
   "cell_type": "markdown",
   "metadata": {},
   "source": [
    "# Les bases de Python :"
   ]
  },
  {
   "cell_type": "markdown",
   "metadata": {},
   "source": [
    "### 1- Calculs simples :"
   ]
  },
  {
   "cell_type": "markdown",
   "metadata": {},
   "source": [
    "##### Python permet de réaliser des calcul simples comme des addition ou des soustractions :"
   ]
  },
  {
   "cell_type": "code",
   "execution_count": 1,
   "metadata": {},
   "outputs": [
    {
     "data": {
      "text/plain": [
       "5"
      ]
     },
     "execution_count": 1,
     "metadata": {},
     "output_type": "execute_result"
    }
   ],
   "source": [
    "3 + 2"
   ]
  },
  {
   "cell_type": "code",
   "execution_count": 2,
   "metadata": {},
   "outputs": [
    {
     "data": {
      "text/plain": [
       "5"
      ]
     },
     "execution_count": 2,
     "metadata": {},
     "output_type": "execute_result"
    }
   ],
   "source": [
    "7 - 2"
   ]
  },
  {
   "cell_type": "markdown",
   "metadata": {},
   "source": [
    "##### Mais il permet également des calculs plus complexes comme des multiplications, des divisions ainsi que l'ajout de parenthèses :"
   ]
  },
  {
   "cell_type": "code",
   "execution_count": 4,
   "metadata": {},
   "outputs": [
    {
     "data": {
      "text/plain": [
       "25"
      ]
     },
     "execution_count": 4,
     "metadata": {},
     "output_type": "execute_result"
    }
   ],
   "source": [
    "(3 + 2) * (7 - 2)"
   ]
  },
  {
   "cell_type": "markdown",
   "metadata": {},
   "source": [
    "##### Pour ce faire, Python utilise des signes correspondant à chaque action :\n",
    " - \"+\" et \"-\" pour l'addition et la soustraction\n",
    " - \"*\" et \"/\" pour la multiplication et la division"
   ]
  },
  {
   "cell_type": "markdown",
   "metadata": {},
   "source": [
    "### 2- Les chaines de caractères :"
   ]
  },
  {
   "cell_type": "markdown",
   "metadata": {},
   "source": [
    "##### Python ne se limite pas aux calculs, il permet également de traiter des chaines de caractères :"
   ]
  },
  {
   "cell_type": "code",
   "execution_count": 7,
   "metadata": {},
   "outputs": [
    {
     "data": {
      "text/plain": [
       "'hello'"
      ]
     },
     "execution_count": 7,
     "metadata": {},
     "output_type": "execute_result"
    }
   ],
   "source": [
    "\"hello\""
   ]
  },
  {
   "cell_type": "markdown",
   "metadata": {},
   "source": [
    "##### Pour faire la différence entre les nombres **int**, et les chaines de caractères **str**, on utilise des \"guillemets\".\n",
    "##### Il est aussi possible d'ajouter des chaînes de caractères en utilisant \"+\" mais cela ne fonctionne pas du tout comme l'addition de nombres :"
   ]
  },
  {
   "cell_type": "code",
   "execution_count": 9,
   "metadata": {},
   "outputs": [
    {
     "data": {
      "text/plain": [
       "'hello world'"
      ]
     },
     "execution_count": 9,
     "metadata": {},
     "output_type": "execute_result"
    }
   ],
   "source": [
    "\"hello\" + \" world\""
   ]
  },
  {
   "cell_type": "markdown",
   "metadata": {},
   "source": [
    "##### On appel ça **la concaténation**"
   ]
  },
  {
   "cell_type": "markdown",
   "metadata": {},
   "source": [
    "##### 2 + 3 ne donnera donc pas le même résultat que \"2\" + \"3\" car traité en chaine de caractère"
   ]
  },
  {
   "cell_type": "code",
   "execution_count": 10,
   "metadata": {},
   "outputs": [
    {
     "data": {
      "text/plain": [
       "5"
      ]
     },
     "execution_count": 10,
     "metadata": {},
     "output_type": "execute_result"
    }
   ],
   "source": [
    "2 + 3"
   ]
  },
  {
   "cell_type": "code",
   "execution_count": 11,
   "metadata": {},
   "outputs": [
    {
     "data": {
      "text/plain": [
       "'23'"
      ]
     },
     "execution_count": 11,
     "metadata": {},
     "output_type": "execute_result"
    }
   ],
   "source": [
    "\"2\" + \"3\""
   ]
  },
  {
   "cell_type": "markdown",
   "metadata": {},
   "source": [
    "##### Enfin pour éviter les guillemets à la sortie on peut utiliser print() :"
   ]
  },
  {
   "cell_type": "code",
   "execution_count": 13,
   "metadata": {},
   "outputs": [
    {
     "name": "stdout",
     "output_type": "stream",
     "text": [
      "23\n"
     ]
    }
   ],
   "source": [
    "print(\"2\" + \"3\")"
   ]
  },
  {
   "cell_type": "markdown",
   "metadata": {},
   "source": [
    "### 3- Les variables :"
   ]
  },
  {
   "cell_type": "markdown",
   "metadata": {},
   "source": [
    "##### Maintenant que vous connaissez les bases nous allons voir les variables, une variable permet de stocker une valeur par exemple :"
   ]
  },
  {
   "cell_type": "code",
   "execution_count": 5,
   "metadata": {},
   "outputs": [
    {
     "name": "stdout",
     "output_type": "stream",
     "text": [
      "15\n"
     ]
    }
   ],
   "source": [
    "mon_age = 15\n",
    "print(mon_age)"
   ]
  },
  {
   "cell_type": "markdown",
   "metadata": {},
   "source": [
    "##### La variable **mon_age** retient l'information **15** qu'il renvoit avec la commande print(mon_age)\n",
    "##### Attention, print(\"mon_age\") ne fera que renvoyer une chaine de caractère !"
   ]
  },
  {
   "cell_type": "code",
   "execution_count": 6,
   "metadata": {},
   "outputs": [
    {
     "name": "stdout",
     "output_type": "stream",
     "text": [
      "mon_age\n"
     ]
    }
   ],
   "source": [
    "mon_age = 15\n",
    "print(\"mon_age\")"
   ]
  },
  {
   "cell_type": "markdown",
   "metadata": {},
   "source": [
    "##### Il est alors possible de combiner les nombres et les chaines de caractères dans la commande print en utilisant une virgule :"
   ]
  },
  {
   "cell_type": "code",
   "execution_count": 7,
   "metadata": {},
   "outputs": [
    {
     "name": "stdout",
     "output_type": "stream",
     "text": [
      "J'ai 15 ans !\n"
     ]
    }
   ],
   "source": [
    "mon_age = 15\n",
    "print(\"J'ai\", mon_age, \"ans !\")"
   ]
  },
  {
   "cell_type": "markdown",
   "metadata": {},
   "source": [
    "### 4- Les boucles :"
   ]
  },
  {
   "cell_type": "markdown",
   "metadata": {},
   "source": [
    "##### Les boucles sont des éléments très importants de Python, elles permettent de nombreuses choses comme notamment de racourcir le code.\n",
    "##### Si je veux écrire tout les chiffres de 1 à 9 en utilisant de **l'incrémentation** (variable += 1 ou -= 1), elles évitent la répétition :"
   ]
  },
  {
   "cell_type": "code",
   "execution_count": 20,
   "metadata": {},
   "outputs": [
    {
     "name": "stdout",
     "output_type": "stream",
     "text": [
      "1\n",
      "2\n",
      "3\n"
     ]
    }
   ],
   "source": [
    "chiffre = 1\n",
    "print(chiffre)\n",
    "chiffre += 1\n",
    "print(chiffre)\n",
    "chiffre += 1\n",
    "print(chiffre)\n",
    "#etc..."
   ]
  },
  {
   "cell_type": "code",
   "execution_count": 23,
   "metadata": {},
   "outputs": [
    {
     "name": "stdout",
     "output_type": "stream",
     "text": [
      "1\n",
      "2\n",
      "3\n",
      "4\n",
      "5\n",
      "6\n",
      "7\n",
      "8\n",
      "9\n"
     ]
    }
   ],
   "source": [
    "chiffre = 1\n",
    "#Ici le nom de ma boucle est loop et je la répète 9 fois :\n",
    "for loop in range(9):\n",
    "    print(chiffre)\n",
    "    chiffre += 1"
   ]
  },
  {
   "cell_type": "markdown",
   "metadata": {},
   "source": [
    "##### Une boucle commence à partir des \":\", ensuite tout ce que contient ma boucle est **incrémenté** (décalé de plusieurs espaces vers la droite) de façon égale, pour finir ma boucle se termine lorsque j'arrète d'incrémenter mon code :"
   ]
  },
  {
   "cell_type": "code",
   "execution_count": 25,
   "metadata": {},
   "outputs": [
    {
     "name": "stdout",
     "output_type": "stream",
     "text": [
      "1\n",
      "2\n",
      "3\n",
      "4\n",
      "5\n",
      "6\n",
      "7\n",
      "8\n",
      "9\n",
      "Ma boucle est finie !\n"
     ]
    }
   ],
   "source": [
    "chiffre = 1\n",
    "for loop in range(9):\n",
    "    print(chiffre)\n",
    "    chiffre += 1\n",
    "print(\"Ma boucle est finie !\")"
   ]
  },
  {
   "cell_type": "markdown",
   "metadata": {},
   "source": [
    "##### Il existe également un autre type de boucle que for, la boucle while qui correspond à tant que :"
   ]
  },
  {
   "cell_type": "code",
   "execution_count": 30,
   "metadata": {},
   "outputs": [
    {
     "name": "stdout",
     "output_type": "stream",
     "text": [
      "7629\n"
     ]
    }
   ],
   "source": [
    "mot_de_passe = 7629\n",
    "trouver_mdp = 0\n",
    "\n",
    "while trouver_mdp != mot_de_passe:\n",
    "    trouver_mdp += 1\n",
    "    \n",
    "print(trouver_mdp)"
   ]
  },
  {
   "cell_type": "markdown",
   "metadata": {},
   "source": [
    "##### La boucle while s'execute donc jusqu'à ce que sa condition soit remplie contrairement à la boucle for qui s'execute un nombre défini de fois"
   ]
  },
  {
   "cell_type": "markdown",
   "metadata": {},
   "source": [
    "### 5- Les conditions **if**, **elif** et **else**"
   ]
  },
  {
   "cell_type": "markdown",
   "metadata": {},
   "source": [
    "##### Quand l'ordinateur voit **if \"condition\":**, il vérifie si la condition est remplie ou non. Si elle est remplie, il exécute la suite du programme\n",
    "##### Il existe alors différentes conditions :\n",
    " - Comme plus/moins grand que : \"<, >\"\n",
    " - Supérieur/inférieur à : \"<=, >=\"\n",
    " - Égale à : \"==\"\n",
    " - Différent de : \"!=\""
   ]
  },
  {
   "cell_type": "code",
   "execution_count": 11,
   "metadata": {},
   "outputs": [
    {
     "name": "stdout",
     "output_type": "stream",
     "text": [
      "-4 est un nombre négatif\n"
     ]
    }
   ],
   "source": [
    "nombre = -4\n",
    "if nombre > 0:\n",
    "    print(nombre, \"est un nombre positif\")\n",
    "elif nombre < 0:\n",
    "    print(nombre, \"est un nombre négatif\")\n",
    "else:\n",
    "    print(\"nombre est égal à 0\")"
   ]
  },
  {
   "cell_type": "markdown",
   "metadata": {},
   "source": [
    "##### La variable **nombre** étant inférieur à 0, la première et la dernière cellule ne s'exécutent pas !"
   ]
  },
  {
   "cell_type": "markdown",
   "metadata": {},
   "source": [
    "### 6- Les booléens :"
   ]
  },
  {
   "cell_type": "markdown",
   "metadata": {},
   "source": [
    "##### Les **booléens** sont des structures conditionnelles, elles agissent de la même manière que <, ou ==\n",
    "##### Il n'en existe que deux : True et False pour Vrai et Faux :"
   ]
  },
  {
   "cell_type": "code",
   "execution_count": 31,
   "metadata": {},
   "outputs": [
    {
     "name": "stdout",
     "output_type": "stream",
     "text": [
      "Tant mieux\n"
     ]
    }
   ],
   "source": [
    " content = True\n",
    " # Attention, il est important d'utiliser des majuscules pour que Python puisse les reconaître\n",
    " if content == True:\n",
    "    print(\"Tant mieux\")"
   ]
  },
  {
   "cell_type": "code",
   "execution_count": 32,
   "metadata": {},
   "outputs": [
    {
     "name": "stdout",
     "output_type": "stream",
     "text": [
      "False\n"
     ]
    }
   ],
   "source": [
    "# On peut également demander si quelque chose est vrai ou faux :\n",
    "mon_age = 15\n",
    "print(mon_age == 17)"
   ]
  },
  {
   "cell_type": "markdown",
   "metadata": {},
   "source": [
    "### 7 - Les listes :"
   ]
  },
  {
   "cell_type": "markdown",
   "metadata": {},
   "source": [
    "##### Les \"\"listes\"\" permettent de stocker plusieurs nombres, chaines de caractères ou variable à l'intérieur d'une seul et même liste.\n",
    "##### Pour définir une liste on utilise \"[]\" espacé de virugles :"
   ]
  },
  {
   "cell_type": "code",
   "execution_count": 1,
   "metadata": {},
   "outputs": [
    {
     "name": "stdout",
     "output_type": "stream",
     "text": [
      "[1, 3, 5, 7, 9]\n"
     ]
    }
   ],
   "source": [
    "liste = [1, 3, 5, 7, 9]\n",
    "print(liste)"
   ]
  },
  {
   "cell_type": "code",
   "execution_count": 2,
   "metadata": {},
   "outputs": [
    {
     "name": "stdout",
     "output_type": "stream",
     "text": [
      "['hello', 'world', 'test']\n"
     ]
    }
   ],
   "source": [
    "liste = [\"hello\", \"world\", \"test\"]\n",
    "print(liste)"
   ]
  },
  {
   "cell_type": "markdown",
   "metadata": {},
   "source": [
    "##### Pour accéder à un élément dans une liste on utilise le nom de la liste suivie de l'indice de l'élément entre crochet que l'on veut.\n",
    "##### Attention, dans python une liste commence par l'élément 0 :"
   ]
  },
  {
   "cell_type": "code",
   "execution_count": 3,
   "metadata": {},
   "outputs": [
    {
     "name": "stdout",
     "output_type": "stream",
     "text": [
      "3\n"
     ]
    }
   ],
   "source": [
    "liste = [1, 3, 5, 7, 9]\n",
    "print(liste[1])"
   ]
  },
  {
   "cell_type": "markdown",
   "metadata": {},
   "source": [
    "##### Il est également possible de créer une liste de liste.\n",
    "##### On utilisera donc deux indices pour accéder aux élements :"
   ]
  },
  {
   "cell_type": "code",
   "execution_count": 4,
   "metadata": {},
   "outputs": [
    {
     "name": "stdout",
     "output_type": "stream",
     "text": [
      "3\n"
     ]
    }
   ],
   "source": [
    "liste = [[1, 3, 5], [2, 4, 6], [7, 8, 9]]\n",
    "print(liste[0][1])"
   ]
  },
  {
   "cell_type": "markdown",
   "metadata": {},
   "source": [
    "##### On peut aussi coupler les listes aux boucles pour les parcourir.\n",
    "##### Ici nous parcourons la liste en utilisant les **valeurs** (retenues dans \"i\") :"
   ]
  },
  {
   "cell_type": "code",
   "execution_count": 10,
   "metadata": {},
   "outputs": [
    {
     "name": "stdout",
     "output_type": "stream",
     "text": [
      "Les chiffre pairs : [2, 4, 6, 8]\n",
      "Les chiffre impairs : [1, 3, 5, 7, 9]\n"
     ]
    }
   ],
   "source": [
    "liste = [1, 2, 3, 4, 5, 6, 7, 8, 9]\n",
    "liste_pair = []\n",
    "liste_impair = []\n",
    "#création de deux listes vides\n",
    "for valeur in liste:\n",
    "    if valeur%2 == 0:\n",
    "        liste_pair.append(valeur)\n",
    "        #append permet d'ajouter une valeur à une liste\n",
    "    else:\n",
    "        liste_impair.append(valeur)\n",
    "print(\"Les chiffre pairs :\", liste_pair)\n",
    "print(\"Les chiffre impairs :\", liste_impair)"
   ]
  },
  {
   "cell_type": "markdown",
   "metadata": {},
   "source": [
    "##### Mais nous pouvons également parcourir une liste avec les indices :"
   ]
  },
  {
   "cell_type": "code",
   "execution_count": 11,
   "metadata": {},
   "outputs": [
    {
     "name": "stdout",
     "output_type": "stream",
     "text": [
      "Les chiffre pairs : []\n",
      "Les chiffre impairs : [1, 2, 3, 4, 5, 6, 7, 8, 9]\n"
     ]
    }
   ],
   "source": [
    "liste = [1, 2, 3, 4, 5, 6, 7, 8, 9]\n",
    "liste_pair = []\n",
    "liste_impair = []\n",
    "#création de deux listes vides\n",
    "for indice in range(len(liste)):\n",
    "    if liste[i]%2 == 0:\n",
    "        liste_pair.append(liste[indice])\n",
    "        #append permet d'ajouter une valeur à une liste\n",
    "    else:\n",
    "        liste_impair.append(liste[indice])\n",
    "print(\"Les chiffre pairs :\", liste_pair)\n",
    "print(\"Les chiffre impairs :\", liste_impair)"
   ]
  },
  {
   "cell_type": "markdown",
   "metadata": {},
   "source": [
    "##### Il est donc important de savoir la façon la plus adaptée de parcourir une liste en les valeurs et les indices !\n",
    "##### Les commandes utilisées :\n",
    "- A"
   ]
  },
  {
   "cell_type": "markdown",
   "metadata": {},
   "source": [
    "\n",
    "### 8 - Les fonctions :"
   ]
  }
 ],
 "metadata": {
  "kernelspec": {
   "display_name": "Python 3.8.13 64-bit ('3.8.13')",
   "language": "python",
   "name": "python3"
  },
  "language_info": {
   "codemirror_mode": {
    "name": "ipython",
    "version": 3
   },
   "file_extension": ".py",
   "mimetype": "text/x-python",
   "name": "python",
   "nbconvert_exporter": "python",
   "pygments_lexer": "ipython3",
   "version": "3.8.13 (default, Oct  4 2022, 14:00:32) \n[GCC 9.4.0]"
  },
  "orig_nbformat": 4,
  "vscode": {
   "interpreter": {
    "hash": "110cc1dee26208153f2972f08a2ad52b6a56238dc66d48e87fb757ef2996db56"
   }
  }
 },
 "nbformat": 4,
 "nbformat_minor": 2
}
