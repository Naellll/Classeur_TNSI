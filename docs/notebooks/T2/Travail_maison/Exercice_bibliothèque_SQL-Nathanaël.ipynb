{
 "cells": [
  {
   "attachments": {},
   "cell_type": "markdown",
   "metadata": {},
   "source": [
    "# Exercice classique : la bibliothèque"
   ]
  },
  {
   "attachments": {},
   "cell_type": "markdown",
   "metadata": {},
   "source": [
    "Abonne(Abonne_ID, Nom, Prenom, DateNaissance, Adresse, Ville, CodePostal)  \n",
    "Livre(Livre_ID, Titre, Auteur, Genre, ISBN)  \n",
    "Emprunt(Abonne_ID, Livre_ID, Livre_Titre, Livre_ISBN, DateEmprunt, DateRetourPrevu, DateRetourReel)"
   ]
  },
  {
   "attachments": {},
   "cell_type": "markdown",
   "metadata": {},
   "source": [
    "### 1. Quelles sont les anomalies dans le schéma précédent ?"
   ]
  },
  {
   "attachments": {},
   "cell_type": "markdown",
   "metadata": {},
   "source": [
    "- Le domaine des attributs n'est pas spécifié\n",
    "- Les clés étrangères ne sont pas spécifiées (pas de \"**#**\")\n",
    "- Livre_Titre et Livre_ISBN devraient être remplacés par #Titre et #ISBN"
   ]
  },
  {
   "attachments": {},
   "cell_type": "markdown",
   "metadata": {},
   "source": [
    "### 2. Clés et contraintes"
   ]
  },
  {
   "attachments": {},
   "cell_type": "markdown",
   "metadata": {},
   "source": [
    "#### a. Proposer une clé primaire pour la table Emprunt :\n",
    "Emprunt_ID:clé primaire\n",
    "\n",
    "#### b. Expliquer l’intérêt de la requête suivante :\n",
    "ALTER TABLE Emprunt  \n",
    "ADD CONSTRAINT CHK_Emprunt_Date CHECK (DateEmprunt <= DateRetourReel)  \n",
    "Cette requête permet d'ajouter une contrainte pour éviter d'avoir une date d'emprunt inférieur/égale à la date de retour (ce qui est impossible)\n",
    "\n",
    "#### d. Pourquoi l’ajout de la contrainte suivante serait-elle une mauvaise idée ?\n",
    "ALTER TABLE Emprunt  \n",
    "MODIFY DateRetourReel DATE NOT NULL;  \n",
    "Elle serait une mauvaise idée car le livre n'est pas rendu directement et ainsi la colonne doit pouvoir être vide en attendant le retour du livre"
   ]
  },
  {
   "attachments": {},
   "cell_type": "markdown",
   "metadata": {},
   "source": [
    "### 3. Exprimer les requêtes suivantes en SQL"
   ]
  },
  {
   "attachments": {},
   "cell_type": "markdown",
   "metadata": {},
   "source": [
    "#### a. Quels sont les noms et prénoms des abonnés habitant Bayonne ?\n",
    "SELECT Nom, Prenom FROM Abonne WHERE Ville = \"Bayonne\";\n",
    "#### b. Quels sont les noms et prénoms des abonnés habitant dans les Pyrénées Atlantiques ?\n",
    "SELECT Nom, Prenom FROM Abonne WHERE CodePostal = \"64%\";\n",
    "#### c. Quels sont les identifiants des abonnés ayant rendu un livre en retard ?\n",
    "\n",
    "#### d. Quels sont les noms des abonnés ayant rendu un livre en retard ?\n",
    "\n",
    "#### e. Quels sont les titres des livres actuellement empruntés ?\n",
    "\n",
    "#### f. Quels sont les noms des gens ayant emprunté le livre Papillon ?\n",
    "\n",
    "#### g. Quels sont les abonnés n’ayant jamais emprunté de livres ?\n",
    "\n",
    "#### h. Quelles sont les noms des personnes n'ayant jamais rendu de livre en retard ?\n",
    "\n",
    "#### i. Quelles sont les noms des personnes ayant toujours rendu en retard les livres qu'elles ont empruntés ?\n",
    "\n",
    "#### j. Quels sont les noms et prénoms des bayonnais ayant rendu un livre en retard ?\n",
    "\n",
    "#### k. Quel est l’abonné le plus âgé ?\n",
    "\n",
    "#### l. Quel est le retard maximal des abonnés ayant rendu un livre en retard ?\n",
    "\n",
    "#### m. Quel est l’identifiant de l’abonné ayant rendu un livre avec le plus de retard ?\n",
    "\n",
    "#### n. Quel est le retard moyen ?\n",
    "\n",
    "#### o. Quels sont les noms des abonnés commençant par les lettres A à H ?\n",
    "\n",
    "#### p. Combien de fois a été emprunté le livre Papillon ?\n"
   ]
  },
  {
   "cell_type": "code",
   "execution_count": null,
   "metadata": {},
   "outputs": [],
   "source": []
  }
 ],
 "metadata": {
  "kernelspec": {
   "display_name": "Python 3",
   "language": "python",
   "name": "python3"
  },
  "language_info": {
   "name": "python",
   "version": "3.8.13 (default, Oct  4 2022, 14:00:32) \n[GCC 9.4.0]"
  },
  "orig_nbformat": 4,
  "vscode": {
   "interpreter": {
    "hash": "9ac03a0a6051494cc606d484d27d20fce22fb7b4d169f583271e11d5ba46a56e"
   }
  }
 },
 "nbformat": 4,
 "nbformat_minor": 2
}
