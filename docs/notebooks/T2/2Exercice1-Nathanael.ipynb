{
 "cells": [
  {
   "attachments": {},
   "cell_type": "markdown",
   "metadata": {},
   "source": [
    "## Exercice 1 - arbres binaires :\n",
    "\n",
    "### 1)"
   ]
  },
  {
   "attachments": {},
   "cell_type": "markdown",
   "metadata": {},
   "source": [
    "a. Cet arbre contient 4 feuilles; 12, val, 21, 32.  \n",
    "b. Le sous-arbre gauche du noeud 23 contient 19, 21.  \n",
    "c. Cet arbre est de hauteur 4 et de taille 9.  \n",
    "d. Val peut être égal à 16 ou 17."
   ]
  },
  {
   "attachments": {},
   "cell_type": "markdown",
   "metadata": {},
   "source": [
    "### 2)"
   ]
  },
  {
   "attachments": {},
   "cell_type": "markdown",
   "metadata": {},
   "source": [
    "a. 12-13-15-val-18-19-21-23-32  \n",
    "b. 12-13-val-15-21-19-32-23-18"
   ]
  },
  {
   "attachments": {},
   "cell_type": "markdown",
   "metadata": {},
   "source": [
    "### 3)"
   ]
  },
  {
   "attachments": {},
   "cell_type": "markdown",
   "metadata": {},
   "source": [
    "a.  \n",
    "![](https://github.com/Naellll/Classeur_TNSI/blob/main/docs/images/arbre3.PNG?raw=true)  \n",
    "b.  \n",
    "racine = Noeud(18)  \n",
    "racine.insere_tout([15, 16, 13, 12, 23, 32, 19, 21])  \n",
    "c.  \n",
    "Bloc 3 (19 > 18) -> Bloc 2 (19 < 23) -> Bloc 1 (19 déjà inséré)"
   ]
  },
  {
   "attachments": {},
   "cell_type": "markdown",
   "metadata": {},
   "source": [
    "### 4)"
   ]
  },
  {
   "cell_type": "code",
   "execution_count": null,
   "metadata": {},
   "outputs": [],
   "source": [
    "def recherche(self, v):\n",
    "    if self is None:\n",
    "        return False\n",
    "    elif self.v ==  v:\n",
    "        return True\n",
    "    else :\n",
    "        return recherche(self.ag, v) or recherche(self.ad(), v)"
   ]
  }
 ],
 "metadata": {
  "kernelspec": {
   "display_name": "Python 3",
   "language": "python",
   "name": "python3"
  },
  "language_info": {
   "name": "python",
   "version": "3.8.13 (default, Oct  4 2022, 14:00:32) \n[GCC 9.4.0]"
  },
  "orig_nbformat": 4,
  "vscode": {
   "interpreter": {
    "hash": "9ac03a0a6051494cc606d484d27d20fce22fb7b4d169f583271e11d5ba46a56e"
   }
  }
 },
 "nbformat": 4,
 "nbformat_minor": 2
}
