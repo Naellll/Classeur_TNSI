{
 "cells": [
  {
   "attachments": {},
   "cell_type": "markdown",
   "metadata": {},
   "source": [
    "## Exercice 2 - arbres binaires :\n",
    "\n",
    "### 1)\n",
    "Il s'agit d'un arbre binaire car chaque père a maximum 2 fils.  \n",
    "### 2)"
   ]
  },
  {
   "attachments": {},
   "cell_type": "markdown",
   "metadata": {},
   "source": [
    "a. La variable V est un dictionnaire"
   ]
  },
  {
   "cell_type": "code",
   "execution_count": 5,
   "metadata": {},
   "outputs": [
    {
     "data": {
      "text/plain": [
       "7"
      ]
     },
     "execution_count": 5,
     "metadata": {},
     "output_type": "execute_result"
    }
   ],
   "source": [
    "# b.\n",
    "V = {'A': 1 , 'B': 2 , 'C': 3 , 'D': 5 , 'E': 10 , 'F': 15 , 'G': 4 , 'H': 5 , 'I': 5 , 'J': 7}\n",
    "V[\"J\"]"
   ]
  },
  {
   "cell_type": "code",
   "execution_count": 3,
   "metadata": {},
   "outputs": [
    {
     "data": {
      "text/plain": [
       "57"
      ]
     },
     "execution_count": 3,
     "metadata": {},
     "output_type": "execute_result"
    }
   ],
   "source": [
    "# c.\n",
    "def somme(W):\n",
    "    somme = 0\n",
    "    for i in W:\n",
    "        somme += W[i]\n",
    "    return somme\n",
    "\n",
    "somme(V)"
   ]
  },
  {
   "cell_type": "code",
   "execution_count": 8,
   "metadata": {},
   "outputs": [
    {
     "data": {
      "text/plain": [
       "15"
      ]
     },
     "execution_count": 8,
     "metadata": {},
     "output_type": "execute_result"
    }
   ],
   "source": [
    "# d.\n",
    "def VMax(W):\n",
    "    maximum = None\n",
    "    for i in W:\n",
    "        if maximum == None:\n",
    "            maximum = W[i]\n",
    "        else:\n",
    "            if W[i] > maximum:\n",
    "                maximum = W[i]\n",
    "    return maximum\n",
    "\n",
    "VMax(V)"
   ]
  },
  {
   "attachments": {},
   "cell_type": "markdown",
   "metadata": {},
   "source": [
    "### 3)\n",
    "Le rôle de cet algorithme est de renvoyer le total des noeuds présents dans un arbre, il commence par créer la variable **x** dans laquelle sera stocké le total des noeuds. Ensuite il additionne la racine au total des noeuds présents dans le sous arbre gauche puis droit de façon récursif. \n",
    "### 4)\n",
    "a. A-B-C-E-D-F-G-I-H-J  \n",
    "b. Il s'agit d'un parcours préfixe."
   ]
  }
 ],
 "metadata": {
  "kernelspec": {
   "display_name": "Python 3",
   "language": "python",
   "name": "python3"
  },
  "language_info": {
   "codemirror_mode": {
    "name": "ipython",
    "version": 3
   },
   "file_extension": ".py",
   "mimetype": "text/x-python",
   "name": "python",
   "nbconvert_exporter": "python",
   "pygments_lexer": "ipython3",
   "version": "3.8.13"
  },
  "orig_nbformat": 4,
  "vscode": {
   "interpreter": {
    "hash": "110cc1dee26208153f2972f08a2ad52b6a56238dc66d48e87fb757ef2996db56"
   }
  }
 },
 "nbformat": 4,
 "nbformat_minor": 2
}
