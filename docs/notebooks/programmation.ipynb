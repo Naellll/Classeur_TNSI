{
 "cells": [
  {
   "cell_type": "markdown",
   "metadata": {},
   "source": [
    "### 1- Calculs simples :"
   ]
  },
  {
   "cell_type": "markdown",
   "metadata": {},
   "source": [
    "##### Python permet de réaliser des calcul simples comme des addition ou des soustractions :"
   ]
  },
  {
   "cell_type": "code",
   "execution_count": 4,
   "metadata": {},
   "outputs": [
    {
     "data": {
      "text/plain": [
       "5"
      ]
     },
     "execution_count": 4,
     "metadata": {},
     "output_type": "execute_result"
    }
   ],
   "source": [
    "3 + 3"
   ]
  },
  {
   "cell_type": "code",
   "execution_count": 5,
   "metadata": {},
   "outputs": [
    {
     "data": {
      "text/plain": [
       "5"
      ]
     },
     "execution_count": 5,
     "metadata": {},
     "output_type": "execute_result"
    }
   ],
   "source": [
    "7 - 2"
   ]
  },
  {
   "cell_type": "markdown",
   "metadata": {},
   "source": [
    "##### Mais il permet également des calculs plus complexes comme des multiplications, des divisions ainsi que l'ajout de parenthèses :"
   ]
  },
  {
   "cell_type": "code",
   "execution_count": 6,
   "metadata": {},
   "outputs": [
    {
     "data": {
      "text/plain": [
       "30"
      ]
     },
     "execution_count": 6,
     "metadata": {},
     "output_type": "execute_result"
    }
   ],
   "source": [
    "(3 + 3) * (7 - 2)"
   ]
  },
  {
   "cell_type": "markdown",
   "metadata": {},
   "source": [
    "##### Pour ce faire, Python utilise des signes correspondant à chaque action :\n",
    " - \"+\" et \"-\" pour l'addition\n",
    " - \"*\" et \"/\" pour la division"
   ]
  },
  {
   "cell_type": "markdown",
   "metadata": {},
   "source": [
    "### 2- Les chaines de caractères :"
   ]
  },
  {
   "cell_type": "markdown",
   "metadata": {},
   "source": [
    "##### Python ne se limite pas aux calculs, il permet également de traiter des chaines de caractères :"
   ]
  },
  {
   "cell_type": "code",
   "execution_count": 7,
   "metadata": {},
   "outputs": [
    {
     "data": {
      "text/plain": [
       "'hello'"
      ]
     },
     "execution_count": 7,
     "metadata": {},
     "output_type": "execute_result"
    }
   ],
   "source": [
    "\"hello\""
   ]
  },
  {
   "cell_type": "markdown",
   "metadata": {},
   "source": [
    "##### Pour faire la différence entre les nombres **int** et les chaines de caractères **str**, on utilise des \"guillemets\".\n",
    "##### Il est aussi possible d'ajouter des chaînes de caractères en utilisant \"+\" mais cela ne fonctionne pas du tout comme l'addition de nombres :"
   ]
  },
  {
   "cell_type": "code",
   "execution_count": 9,
   "metadata": {},
   "outputs": [
    {
     "data": {
      "text/plain": [
       "'hello world'"
      ]
     },
     "execution_count": 9,
     "metadata": {},
     "output_type": "execute_result"
    }
   ],
   "source": [
    "\"hello\" + \" world\""
   ]
  },
  {
   "cell_type": "markdown",
   "metadata": {},
   "source": [
    "##### On appel ça **la concaténation**"
   ]
  },
  {
   "cell_type": "markdown",
   "metadata": {},
   "source": [
    "##### 2 + 3 ne donnera donc pas le même résultat que \"2\" + \"3\" car traité en chaine de caractère"
   ]
  },
  {
   "cell_type": "code",
   "execution_count": 10,
   "metadata": {},
   "outputs": [
    {
     "data": {
      "text/plain": [
       "5"
      ]
     },
     "execution_count": 10,
     "metadata": {},
     "output_type": "execute_result"
    }
   ],
   "source": [
    "2 + 3"
   ]
  },
  {
   "cell_type": "code",
   "execution_count": 11,
   "metadata": {},
   "outputs": [
    {
     "data": {
      "text/plain": [
       "'23'"
      ]
     },
     "execution_count": 11,
     "metadata": {},
     "output_type": "execute_result"
    }
   ],
   "source": [
    "\"2\" + \"3\""
   ]
  },
  {
   "cell_type": "markdown",
   "metadata": {},
   "source": [
    "##### Enfin pour éviter les guillemets à la sortie on peut utiliser print() :"
   ]
  },
  {
   "cell_type": "code",
   "execution_count": 13,
   "metadata": {},
   "outputs": [
    {
     "name": "stdout",
     "output_type": "stream",
     "text": [
      "23\n"
     ]
    }
   ],
   "source": [
    "print(\"2\" + \"3\")"
   ]
  },
  {
   "cell_type": "markdown",
   "metadata": {},
   "source": [
    "### 3- Les variables :"
   ]
  },
  {
   "cell_type": "markdown",
   "metadata": {},
   "source": [
    "##### Maintenant que vous connaissez les bases nous allons voir les variables, une variable permet de stocker une valeur par exemple :"
   ]
  },
  {
   "cell_type": "code",
   "execution_count": 12,
   "metadata": {},
   "outputs": [
    {
     "name": "stdout",
     "output_type": "stream",
     "text": [
      "10\n"
     ]
    }
   ],
   "source": [
    "mon_age = 15\n",
    "print(mon_age)"
   ]
  },
  {
   "cell_type": "markdown",
   "metadata": {},
   "source": [
    "##### La variable **mon_age** retient l'information **15** qu'il renvoit avec la commande print(mon_age)\n",
    "##### Attention, print(\"mon_age\") ne fera que renvoyer une chaine de caractère !\n",
    "##### Il est alors possible de combiner les nombres et les chaines de caractères dans la commande print en utilisant une virgule :"
   ]
  },
  {
   "cell_type": "code",
   "execution_count": 19,
   "metadata": {},
   "outputs": [
    {
     "name": "stdout",
     "output_type": "stream",
     "text": [
      "J'ai 10 ans !\n"
     ]
    }
   ],
   "source": [
    "mon_age = 15\n",
    "print(\"J'ai\", mon_age, \"ans !\")"
   ]
  },
  {
   "cell_type": "markdown",
   "metadata": {},
   "source": [
    "### 4- Les boucles :"
   ]
  },
  {
   "cell_type": "markdown",
   "metadata": {},
   "source": [
    "##### Les boucles sont des éléments très importants de Python, elles permettent de nombreuses choses comme notamment de racourcir le code.\n",
    "##### Si je veux écrire tout les chiffres de 1 à 9 en utilisant de **l'incrémentation** (variable += 1 ou -= 1), elles évitent la répétition :"
   ]
  },
  {
   "cell_type": "code",
   "execution_count": 20,
   "metadata": {},
   "outputs": [
    {
     "name": "stdout",
     "output_type": "stream",
     "text": [
      "1\n",
      "2\n",
      "3\n"
     ]
    }
   ],
   "source": [
    "chiffre = 1\n",
    "print(chiffre)\n",
    "chiffre += 1\n",
    "print(chiffre)\n",
    "chiffre += 1\n",
    "print(chiffre)\n",
    "#etc..."
   ]
  },
  {
   "cell_type": "code",
   "execution_count": 23,
   "metadata": {},
   "outputs": [
    {
     "name": "stdout",
     "output_type": "stream",
     "text": [
      "1\n",
      "2\n",
      "3\n",
      "4\n",
      "5\n",
      "6\n",
      "7\n",
      "8\n",
      "9\n"
     ]
    }
   ],
   "source": [
    "chiffre = 1\n",
    "#Ici le nom de ma boucle est loop et je la répète 9 fois :\n",
    "for loop in range(9):\n",
    "    print(chiffre)\n",
    "    chiffre += 1"
   ]
  },
  {
   "cell_type": "markdown",
   "metadata": {},
   "source": [
    "##### Une boucle commence à partir des \":\", ensuite tout ce que contient ma boucle est **incrémenté** (décalé de plusieurs espaces vers la droite) de façon égale, pour finir ma boucle se termine lorsque j'arrète d'incrémenter mon code :"
   ]
  },
  {
   "cell_type": "code",
   "execution_count": 25,
   "metadata": {},
   "outputs": [
    {
     "name": "stdout",
     "output_type": "stream",
     "text": [
      "1\n",
      "2\n",
      "3\n",
      "4\n",
      "5\n",
      "6\n",
      "7\n",
      "8\n",
      "9\n",
      "Ma boucle est finie !\n"
     ]
    }
   ],
   "source": [
    "chiffre = 1\n",
    "for loop in range(9):\n",
    "    print(chiffre)\n",
    "    chiffre += 1\n",
    "print(\"Ma boucle est finie !\")"
   ]
  },
  {
   "cell_type": "markdown",
   "metadata": {},
   "source": [
    "### 5- Les conditions **if**, **elif** et **else**"
   ]
  },
  {
   "cell_type": "markdown",
   "metadata": {},
   "source": [
    "##### Quand l'ordinateur voit **if \"condition\":**, il vérifie si la condition est remplie ou non. Si elle est remplie, il exécute la suite du programme\n",
    "##### Il existe alors différentes conditions :\n",
    " - Comme plus/moins grand que : \"<, >\"\n",
    " - Supérieur/inférieur à : \"<=, >=\"\n",
    " - Egale : \"=\""
   ]
  },
  {
   "cell_type": "code",
   "execution_count": 26,
   "metadata": {},
   "outputs": [
    {
     "name": "stdout",
     "output_type": "stream",
     "text": [
      "je ne suis pas encore majeur\n"
     ]
    }
   ],
   "source": [
    "mon_age = 15\n",
    "if mon_age >= 18:\n",
    "    print(\"je suis majeur\")\n",
    "elif mon_age < 18:\n",
    "    print(\"je ne suis pas encore majeur\")"
   ]
  },
  {
   "cell_type": "markdown",
   "metadata": {},
   "source": [
    "##### La variable mon_age étant inférieur à 18, la première cellule ne s'exécute pas !"
   ]
  }
 ],
 "metadata": {
  "kernelspec": {
   "display_name": "Python 3.8.13 64-bit ('3.8.13')",
   "language": "python",
   "name": "python3"
  },
  "language_info": {
   "codemirror_mode": {
    "name": "ipython",
    "version": 3
   },
   "file_extension": ".py",
   "mimetype": "text/x-python",
   "name": "python",
   "nbconvert_exporter": "python",
   "pygments_lexer": "ipython3",
   "version": "3.8.13"
  },
  "orig_nbformat": 4,
  "vscode": {
   "interpreter": {
    "hash": "110cc1dee26208153f2972f08a2ad52b6a56238dc66d48e87fb757ef2996db56"
   }
  }
 },
 "nbformat": 4,
 "nbformat_minor": 2
}
