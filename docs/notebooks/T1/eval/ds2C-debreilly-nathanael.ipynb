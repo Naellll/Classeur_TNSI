{
 "cells": [
  {
   "cell_type": "markdown",
   "metadata": {},
   "source": [
    "# Devoir surveillé n°2 – Partie pratique C\n",
    "\n",
    "\n",
    "## Consignes\n",
    "\n",
    "Vous devez enregister ce fichier sous le nom `ds2C-nom-prenom.ipynb`\n",
    "\n",
    "De plus vous devez compléter votre fichier `ds2-nom-prenom.py` avec le code de toutes les fonctions définies ici et dans les parties A et B y compris le code d'implémentation pour les piles que vous aurez utilisé afin de pouvoir l'importer pour la suite du développement de ce projet.\n",
    "\n",
    "À la fin de la séance, transmettez vos fichiers par mail à l'adresse `eric.madec@ecmorlaix.fr`\n",
    "\n",
    "Respectez bien le nom des fonctions pour faciliter la relecture du code.\n",
    "\n",
    "Vous pouvez rajouter des commentaires lorsque vous pensez que c’est nécessaire.\n",
    "\n",
    "De même, essayez de choisir des variables dont le nom est compréhensible, si c’est pertinent.\n",
    "\n",
    "\n",
    "# Les tours de Hanoï\n",
    "\n",
    "Les tours seront modélisées par une liste de 3 piles.\n",
    "\n",
    "Pour les piles, vous avez le choix entre deux implémentations données :\n",
    "- Dans la première, une pile est une liste Python.\n",
    "- Dans la deuxième, on définit une classe Pile qui utilise également une liste Python.\n",
    "\n",
    "Vous devez manipuler une pile uniquement avec les fonctions ou méthodes fournies.\n",
    "\n",
    "Pour pouvoir les utiliser dans ce notebook il vous faut les importer depuis votre module `ds2-nom-prenom.py` tout comme les fonctions que vous avez définies dans les parties A et B."
   ]
  },
  {
   "cell_type": "code",
   "execution_count": 2,
   "metadata": {},
   "outputs": [],
   "source": [
    "from ds2_debreilly_nathanael import *"
   ]
  },
  {
   "cell_type": "markdown",
   "metadata": {},
   "source": [
    "# Affichage :\n",
    "\n",
    "<img src=\"https://ericecmorlaix.github.io/img/ds2_hanoi-02.png\" alt=\"ds2_hanoi-02.png\" width=30% align='right' >\n",
    "\n",
    "Nous allons maintenant ajouter un affichage permettant de mieux visualiser l’état des tours.\n",
    "\n",
    "Pour cela nous allons passer par un tableau à 2 dimensions montrant le contenu de chaque pile.\n",
    "\n",
    "Ainsi le tableau ci-dessous correspond à la situation ci-contre :\n",
    "```python\n",
    "tab = [[5, 2, 0, 0, 0],\n",
    "       [4, 3, 1, 0, 0],\n",
    "       [0, 0, 0, 0, 0]]\n",
    "```\n",
    "\n",
    "Le tableau est composé de 3 tableaux de n valeurs, où n est le nombre de disques, et lorsqu’il n’y a pas de disques, la valeur est 0.\n",
    "\n",
    "## Exercice 7 :\n",
    "\n",
    "Écrire une fonction `pile_vers_tableau(pile, n)` qui renvoie le tableau de taille n correspondant à pile.\n",
    "\n",
    "Il ne faut pas utiliser le fait que les piles sont représentées par des listes. Il faut au contraire dépiler la pile, en empilant les valeurs sur une autre pile, puis la réempiler, tout en notant les valeurs dans le tableau, afin qu’elle retrouve son état initial. La deuxième pile n’est pas obligée de contenir des valeurs dans l’ordre décroissant.\n",
    "\n",
    "<img src=\"https://ericecmorlaix.github.io/img/ds2_hanoi-03.png\" alt=\"ds2_hanoi-03.png\" width=70% >\n",
    "\n",
    "> Pour rappel, pour créer un tableau rempli de n 0, il faut faire `[0]*n`.\n"
   ]
  },
  {
   "cell_type": "code",
   "execution_count": 99,
   "metadata": {},
   "outputs": [],
   "source": [
    "def pile_vers_tableau(pile, n):\n",
    "    tableau = [0]*n\n",
    "    for i in range(len(pile)):\n",
    "        tableau[i] = pile[i]\n",
    "    return tableau"
   ]
  },
  {
   "cell_type": "markdown",
   "metadata": {},
   "source": [
    "Tester votre fonction `pile_vers_tableau(pile, n)` ci-dessous de sorte que :\n",
    "\n",
    "```python \n",
    "# Première implémentation pour les piles\n",
    ">>> pile = creer_pile()\n",
    ">>> empiler(pile, 4)\n",
    ">>> empiler(pile, 3)\n",
    ">>> empiler(pile, 1)\n",
    ">>> pile_vers_tableau(pile, 5)\n",
    "[4, 3, 1, 0, 0]\n",
    "```\n",
    "```python \n",
    "# Deuxième implémentation pour les piles\n",
    ">>> pile = Pile()\n",
    ">>> pile.empiler(4)\n",
    ">>> pile.empiler(3)\n",
    ">>> pile.empiler(1)\n",
    ">>> pile_vers_tableau(pile, 5)\n",
    "[4, 3, 1, 0, 0]\n",
    "```"
   ]
  },
  {
   "cell_type": "code",
   "execution_count": 102,
   "metadata": {},
   "outputs": [
    {
     "data": {
      "text/plain": [
       "[4, 3, 1, 0, 0]"
      ]
     },
     "execution_count": 102,
     "metadata": {},
     "output_type": "execute_result"
    }
   ],
   "source": [
    "pile = creer_pile_liste()\n",
    "empiler_liste(pile, 4)\n",
    "empiler_liste(pile, 3)\n",
    "empiler_liste(pile, 1)\n",
    "pile_vers_tableau(pile, 5)"
   ]
  },
  {
   "cell_type": "markdown",
   "metadata": {},
   "source": [
    "## Exercice 8 :\n",
    "\n",
    "Écrire une fonction tours_vers_matrice(tours, n) qui renvoie le tableau à deux dimensions correspondant aux tours."
   ]
  },
  {
   "cell_type": "code",
   "execution_count": 103,
   "metadata": {},
   "outputs": [],
   "source": [
    "def tours_vers_matrice(tours, n) :\n",
    "       matrice = []\n",
    "       for i in tours:\n",
    "              matrice.append(pile_vers_tableau(i, n))\n",
    "       return matrice"
   ]
  },
  {
   "cell_type": "markdown",
   "metadata": {},
   "source": [
    "Tester votre fonction `tours_vers_matrice(tours, n)` ci-dessous de sorte que :\n",
    "\n",
    "```python \n",
    ">>> tours = [[5, 4, 3], [1], [2]]\n",
    ">>> tours_vers_matrice(tours, 5)\n",
    "[[5, 4, 3, 0, 0], [1, 0, 0, 0, 0], [2, 0, 0, 0, 0]]\n",
    "```"
   ]
  },
  {
   "cell_type": "code",
   "execution_count": 105,
   "metadata": {},
   "outputs": [
    {
     "data": {
      "text/plain": [
       "[[5, 4, 3, 0, 0], [1, 0, 0, 0, 0], [2, 0, 0, 0, 0]]"
      ]
     },
     "execution_count": 105,
     "metadata": {},
     "output_type": "execute_result"
    }
   ],
   "source": [
    "tours = [[5, 4, 3], [1], [2]]\n",
    "tours_vers_matrice(tours, 5)"
   ]
  },
  {
   "cell_type": "markdown",
   "metadata": {},
   "source": [
    "## Exercice 9 :\n",
    "\n",
    "Écrire une fonction `affichage_matrice(matrice, n)` qui affiche l’état des 3 piles.\n",
    "\n",
    "Il y a un espace avant chaque colonne.\n",
    "\n",
    "Les `0` sont remplacés par des `|` et les autres nombres sont affichés.\n",
    "\n",
    "Vous pouvez vous inspirer de la structure du code ci-dessous :"
   ]
  },
  {
   "cell_type": "code",
   "execution_count": 106,
   "metadata": {},
   "outputs": [],
   "source": [
    "def affichage_matrice(matrice, n) :\n",
    "    ligne = \" \"\n",
    "    for j in range(n-1, -1, -1): # parcours de droite à gauche des sous-tableaux\n",
    "        for i in range(3): # parcours de haut en bas des tableaux\n",
    "            if matrice[i][j] == 0:\n",
    "                ligne += \"| \"\n",
    "            else:\n",
    "                ligne += str(matrice[i][j]) + \" \"\n",
    "        print(ligne)\n",
    "        ligne = \" \""
   ]
  },
  {
   "cell_type": "markdown",
   "metadata": {},
   "source": [
    "Tester votre fonction `affichage_matrice(matrice, n)` ci-dessous de sorte que :\n",
    "\n",
    "``` \n",
    ">>> matrice = [[5, 4, 3, 0, 0], [1, 0, 0, 0, 0], [2, 0, 0, 0, 0]]\n",
    ">>> affichage_matrice(matrice, 5)\n",
    " | | |\n",
    " | | |\n",
    " 3 | |\n",
    " 4 | |\n",
    " 5 1 2\n",
    "```"
   ]
  },
  {
   "cell_type": "code",
   "execution_count": 107,
   "metadata": {},
   "outputs": [
    {
     "name": "stdout",
     "output_type": "stream",
     "text": [
      " | | | \n",
      " | | | \n",
      " 3 | | \n",
      " 4 | | \n",
      " 5 1 2 \n"
     ]
    }
   ],
   "source": [
    "matrice = [[5, 4, 3, 0, 0], [1, 0, 0, 0, 0], [2, 0, 0, 0, 0]]\n",
    "affichage_matrice(matrice, 5)"
   ]
  },
  {
   "cell_type": "markdown",
   "metadata": {},
   "source": [
    "## Exercice 10 :\n",
    "\n",
    "Écrire une foncion `affichage_tours(tours, n)` qui affiche le contenu des tours sur un socle à la base du jeu.\n",
    "\n",
    "Le socle est une ligne de `=` dépassant de chaque coté des piles."
   ]
  },
  {
   "cell_type": "code",
   "execution_count": 108,
   "metadata": {},
   "outputs": [],
   "source": [
    "def affichage_tours(tours, n) :\n",
    "    affichage_matrice(tours_vers_matrice(tours, n), n)\n",
    "    ligne = \"\"\n",
    "    for i in range(len(tours.liste)*2+1):\n",
    "        ligne += \"=\"\n",
    "    print(ligne)"
   ]
  },
  {
   "cell_type": "markdown",
   "metadata": {},
   "source": [
    "Tester votre fonction `affichage_tours(tours, n)` ci-dessous de sorte que :\n",
    "\n",
    "``` \n",
    ">>> tours = [[5, 4, 3], [1], [2]]\n",
    ">>> affichage_tours(tours, 5)\n",
    " | | |\n",
    " | | |\n",
    " 3 | |\n",
    " 4 | |\n",
    " 5 1 2\n",
    "=======\n",
    "```"
   ]
  },
  {
   "cell_type": "code",
   "execution_count": 110,
   "metadata": {},
   "outputs": [
    {
     "name": "stdout",
     "output_type": "stream",
     "text": [
      " | | | \n",
      " | | | \n",
      " 3 | | \n",
      " 4 | | \n",
      " 5 1 2 \n"
     ]
    },
    {
     "ename": "AttributeError",
     "evalue": "'list' object has no attribute 'liste'",
     "output_type": "error",
     "traceback": [
      "\u001b[0;31m---------------------------------------------------------------------------\u001b[0m",
      "\u001b[0;31mAttributeError\u001b[0m                            Traceback (most recent call last)",
      "Cell \u001b[0;32mIn [110], line 2\u001b[0m\n\u001b[1;32m      1\u001b[0m tours \u001b[39m=\u001b[39m [[\u001b[39m5\u001b[39m, \u001b[39m4\u001b[39m, \u001b[39m3\u001b[39m], [\u001b[39m1\u001b[39m], [\u001b[39m2\u001b[39m]]\n\u001b[0;32m----> 2\u001b[0m affichage_tours(tours, \u001b[39m5\u001b[39m)\n",
      "Cell \u001b[0;32mIn [108], line 4\u001b[0m, in \u001b[0;36maffichage_tours\u001b[0;34m(tours, n)\u001b[0m\n\u001b[1;32m      2\u001b[0m affichage_matrice(tours_vers_matrice(tours, n), n)\n\u001b[1;32m      3\u001b[0m ligne \u001b[39m=\u001b[39m \u001b[39m\"\u001b[39m\u001b[39m\"\u001b[39m\n\u001b[0;32m----> 4\u001b[0m \u001b[39mfor\u001b[39;00m i \u001b[39min\u001b[39;00m \u001b[39mrange\u001b[39m(\u001b[39mlen\u001b[39m(tours\u001b[39m.\u001b[39;49mliste)\u001b[39m*\u001b[39m\u001b[39m2\u001b[39m\u001b[39m+\u001b[39m\u001b[39m1\u001b[39m):\n\u001b[1;32m      5\u001b[0m     ligne \u001b[39m+\u001b[39m\u001b[39m=\u001b[39m \u001b[39m\"\u001b[39m\u001b[39m=\u001b[39m\u001b[39m\"\u001b[39m\n\u001b[1;32m      6\u001b[0m \u001b[39mprint\u001b[39m(ligne)\n",
      "\u001b[0;31mAttributeError\u001b[0m: 'list' object has no attribute 'liste'"
     ]
    }
   ],
   "source": [
    "tours = [[5, 4, 3], [1], [2]]\n",
    "affichage_tours(tours, 5)"
   ]
  },
  {
   "cell_type": "markdown",
   "metadata": {},
   "source": [
    "## Exercice 11 : \n",
    "\n",
    "En rajoutant des affichages aux bons endroits dans la fonction `resoudre()`, afficher les différentes étapes par lesquelles passent les tours.\n",
    "\n",
    "L’état initial ne doit pas être affiché par `resoudre()`.\n",
    "\n",
    "Il faudra rajouter un paramètre à `resoudre` indiquant le nombre total de disques dans le jeu.\n",
    "\n",
    "Vous pouvez par exemple utiliser : `resoudre(tours, n_disques, n, origine, cible, interm)`, la valeur `n_disques` ne diminuant pas lors des appels récursifs."
   ]
  },
  {
   "cell_type": "code",
   "execution_count": 93,
   "metadata": {},
   "outputs": [],
   "source": [
    "def resoudre(tours, n_disques, n, origine, cible, interm):\n",
    "    affichage_tours(tours, n)\n",
    "    if n_disques == 0:\n",
    "        return None\n",
    "    else:\n",
    "        resoudre(tours, n_disques-1, n, origine, interm, cible)\n",
    "        deplacer(tours, origine, cible)\n",
    "        affichage_tours(tours, n)\n",
    "        resoudre(tours, n_disques-1, n, interm, cible, origine)"
   ]
  },
  {
   "cell_type": "markdown",
   "metadata": {},
   "source": [
    "Tester votre nouvelle fonction `resoudre(tours, n_disques, n, origine, cible, interm)` ci-dessous de sorte que :\n",
    "\n",
    "``` \n",
    ">>> resoudre(creation_tours(2), 2, 2, 0, 2, 1)\n",
    " | | |\n",
    " 2 1 |\n",
    "=======\n",
    " | | |\n",
    " | 1 2\n",
    "=======\n",
    " | | 1\n",
    " | | 2\n",
    "=======\n",
    "```"
   ]
  },
  {
   "cell_type": "code",
   "execution_count": 95,
   "metadata": {},
   "outputs": [
    {
     "ename": "IndexError",
     "evalue": "list assignment index out of range",
     "output_type": "error",
     "traceback": [
      "\u001b[0;31m---------------------------------------------------------------------------\u001b[0m",
      "\u001b[0;31mIndexError\u001b[0m                                Traceback (most recent call last)",
      "Cell \u001b[0;32mIn [95], line 3\u001b[0m\n\u001b[1;32m      1\u001b[0m pile \u001b[39m=\u001b[39m Pile()\n\u001b[1;32m      2\u001b[0m pile\u001b[39m.\u001b[39mempiler(creation_tours(\u001b[39m2\u001b[39m))\n\u001b[0;32m----> 3\u001b[0m resoudre(pile, \u001b[39m2\u001b[39m, \u001b[39m2\u001b[39m, \u001b[39m0\u001b[39m, \u001b[39m2\u001b[39m, \u001b[39m1\u001b[39m)\n",
      "Cell \u001b[0;32mIn [93], line 2\u001b[0m, in \u001b[0;36mresoudre\u001b[0;34m(tours, n_disques, n, origine, cible, interm)\u001b[0m\n\u001b[1;32m      1\u001b[0m \u001b[39mdef\u001b[39;00m \u001b[39mresoudre\u001b[39m(tours, n_disques, n, origine, cible, interm):\n\u001b[0;32m----> 2\u001b[0m     affichage_tours(tours, n)\n\u001b[1;32m      3\u001b[0m     \u001b[39mif\u001b[39;00m n_disques \u001b[39m==\u001b[39m \u001b[39m0\u001b[39m:\n\u001b[1;32m      4\u001b[0m         \u001b[39mreturn\u001b[39;00m \u001b[39mNone\u001b[39;00m\n",
      "Cell \u001b[0;32mIn [77], line 2\u001b[0m, in \u001b[0;36maffichage_tours\u001b[0;34m(tours, n)\u001b[0m\n\u001b[1;32m      1\u001b[0m \u001b[39mdef\u001b[39;00m \u001b[39maffichage_tours\u001b[39m(tours, n) :\n\u001b[0;32m----> 2\u001b[0m     affichage_matrice(tours_vers_matrice(tours, n), n)\n\u001b[1;32m      3\u001b[0m     ligne \u001b[39m=\u001b[39m \u001b[39m\"\u001b[39m\u001b[39m\"\u001b[39m\n\u001b[1;32m      4\u001b[0m     \u001b[39mfor\u001b[39;00m i \u001b[39min\u001b[39;00m \u001b[39mrange\u001b[39m(\u001b[39mlen\u001b[39m(tours\u001b[39m.\u001b[39mliste)\u001b[39m*\u001b[39m\u001b[39m2\u001b[39m\u001b[39m+\u001b[39m\u001b[39m1\u001b[39m):\n",
      "Cell \u001b[0;32mIn [47], line 7\u001b[0m, in \u001b[0;36mtours_vers_matrice\u001b[0;34m(self, n)\u001b[0m\n\u001b[1;32m      5\u001b[0m        \u001b[39mfor\u001b[39;00m j \u001b[39min\u001b[39;00m i:\n\u001b[1;32m      6\u001b[0m               pile\u001b[39m.\u001b[39mempiler(j)\n\u001b[0;32m----> 7\u001b[0m        matrice\u001b[39m.\u001b[39mappend(pile_vers_tableau(pile, n))\n\u001b[1;32m      8\u001b[0m \u001b[39mreturn\u001b[39;00m matrice\n",
      "Cell \u001b[0;32mIn [17], line 4\u001b[0m, in \u001b[0;36mpile_vers_tableau\u001b[0;34m(self, n)\u001b[0m\n\u001b[1;32m      2\u001b[0m tableau \u001b[39m=\u001b[39m [\u001b[39m0\u001b[39m]\u001b[39m*\u001b[39mn\n\u001b[1;32m      3\u001b[0m \u001b[39mfor\u001b[39;00m i \u001b[39min\u001b[39;00m \u001b[39mrange\u001b[39m(\u001b[39mlen\u001b[39m(\u001b[39mself\u001b[39m\u001b[39m.\u001b[39mliste)):\n\u001b[0;32m----> 4\u001b[0m     tableau[i] \u001b[39m=\u001b[39m \u001b[39mself\u001b[39m\u001b[39m.\u001b[39mliste[i]\n\u001b[1;32m      5\u001b[0m \u001b[39mreturn\u001b[39;00m tableau\n",
      "\u001b[0;31mIndexError\u001b[0m: list assignment index out of range"
     ]
    }
   ],
   "source": [
    "pile = Pile()\n",
    "pile.empiler(creation_tours(2))\n",
    "resoudre(pile, 2, 2, 0, 2, 1)"
   ]
  },
  {
   "cell_type": "markdown",
   "metadata": {},
   "source": [
    "## Exercice 12 :\n",
    "\n",
    "Modifier l’affichage pour avoir quelque chose de plus visuel.\n",
    "\n",
    "L’idée est de représenter le disque k par une chaîne de 2k+ 1 symboles '='.\n",
    "\n",
    "Chaque pile occupe 2n+ 1 colonnes, donc la colonne centrale correspond à la tige, représentée par '|' s’il n’y a pas de disque sur la ligne affichée.\n",
    "\n",
    "Écrire la fonction `affichage_complexe(matrice, n)` qui réalise l’affichage suivant :\n",
    "\n",
    "```\n",
    ">>> affichage_complexe([[5, 4, 3, 2, 1], [0, 0, 0, 0, 0], [0, 0, 0, 0, 0]],5)\n",
    "    ===         |          |     \n",
    "   =====        |          |     \n",
    "  =======       |          |     \n",
    " =========      |          |     \n",
    "===========     |          |     \n",
    "\n",
    ">>> affichage_complexe([[5, 4, 0, 0, 0], [3, 2, 0, 0, 0], [1, 0, 0, 0, 0]],5)\n",
    "     |          |          |     \n",
    "     |          |          |     \n",
    "     |          |          |     \n",
    " =========    =====        |     \n",
    "===========  =======      === \n",
    "```"
   ]
  },
  {
   "cell_type": "code",
   "execution_count": null,
   "metadata": {},
   "outputs": [],
   "source": [
    "def affichage_complexe(matrice, n):\n",
    "\n",
    "    \n",
    "    "
   ]
  },
  {
   "cell_type": "markdown",
   "metadata": {},
   "source": [
    "Reprendre les exercices 10 et 11 avec cet affichage...\n",
    "\n",
    "## Exercice 13 :\n",
    "\n",
    "Pour améliorer encore l'affichage, rendez le définitivement plus visuel à l'aide du module `ipycanvas`..."
   ]
  },
  {
   "cell_type": "code",
   "execution_count": null,
   "metadata": {},
   "outputs": [],
   "source": [
    "from ipycanvas import Canvas"
   ]
  },
  {
   "cell_type": "code",
   "execution_count": null,
   "metadata": {},
   "outputs": [],
   "source": [
    "def affichage_canvas(matrice, n) :\n",
    "    \n",
    "    hanoi = Canvas(width = '''en fonction de n''', height = '''en fonction de n''')\n",
    "    "
   ]
  },
  {
   "cell_type": "markdown",
   "metadata": {},
   "source": [
    "## Consignes, rappels :\n",
    "\n",
    "Vous devez enregister ce fichier sous le nom `ds2C-nom-prenom.ipynb`\n",
    "\n",
    "De plus vous devez compléter votre fichier `ds2-nom-prenom.py` avec le code de toutes les fonctions définies ici et dans les parties A et B, y compris le code d'implémentation pour les piles que vous avez utilisé afin de pouvoir l'importer pour la suite du développement de ce projet.\n",
    "\n",
    "À la fin de la séance, transmettez vos fichiers par mail à l'adresse `eric.madec@ecmorlaix.fr`\n",
    "\n",
    "Respectez bien le nom des fonctions pour faciliter la relecture du code.\n",
    "\n",
    "Vous pouvez rajouter des commentaires lorsque vous pensez que c’est nécessaire.\n",
    "\n",
    "De même, essayez de choisir des variables dont le nom est compréhensible, si c’est pertinent."
   ]
  },
  {
   "cell_type": "code",
   "execution_count": null,
   "metadata": {},
   "outputs": [],
   "source": []
  }
 ],
 "metadata": {
  "kernelspec": {
   "display_name": "Python 3",
   "language": "python",
   "name": "python3"
  },
  "language_info": {
   "codemirror_mode": {
    "name": "ipython",
    "version": 3
   },
   "file_extension": ".py",
   "mimetype": "text/x-python",
   "name": "python",
   "nbconvert_exporter": "python",
   "pygments_lexer": "ipython3",
   "version": "3.8.13"
  },
  "toc": {
   "base_numbering": 1,
   "nav_menu": {},
   "number_sections": true,
   "sideBar": true,
   "skip_h1_title": false,
   "title_cell": "Table of Contents",
   "title_sidebar": "Contents",
   "toc_cell": false,
   "toc_position": {},
   "toc_section_display": true,
   "toc_window_display": false
  },
  "varInspector": {
   "cols": {
    "lenName": 16,
    "lenType": 16,
    "lenVar": 40
   },
   "kernels_config": {
    "python": {
     "delete_cmd_postfix": "",
     "delete_cmd_prefix": "del ",
     "library": "var_list.py",
     "varRefreshCmd": "print(var_dic_list())"
    },
    "r": {
     "delete_cmd_postfix": ") ",
     "delete_cmd_prefix": "rm(",
     "library": "var_list.r",
     "varRefreshCmd": "cat(var_dic_list()) "
    }
   },
   "types_to_exclude": [
    "module",
    "function",
    "builtin_function_or_method",
    "instance",
    "_Feature"
   ],
   "window_display": false
  },
  "vscode": {
   "interpreter": {
    "hash": "9ac03a0a6051494cc606d484d27d20fce22fb7b4d169f583271e11d5ba46a56e"
   }
  }
 },
 "nbformat": 4,
 "nbformat_minor": 4
}
