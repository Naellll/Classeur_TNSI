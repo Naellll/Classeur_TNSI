{
 "cells": [
  {
   "attachments": {},
   "cell_type": "markdown",
   "metadata": {},
   "source": [
    "# Sujet Grand Oral :"
   ]
  },
  {
   "attachments": {},
   "cell_type": "markdown",
   "metadata": {},
   "source": [
    "### NSI : POO -> histoire (deux camps) -> toujours d'actualité\n",
    "/ quel paradigme -> avenir ???"
   ]
  },
  {
   "attachments": {},
   "cell_type": "markdown",
   "metadata": {},
   "source": [
    "#### Plan NSI :\n",
    "- Introduction :  \n",
    "les jeux vidéos dans notre quotidien  \n",
    "regroupe de nombreux métiers  \n",
    "ce qui permet que les jeux vidéos fonctionnent (programmation et graphismes)  \n",
    "  \n",
    "- Suite :  \n",
    "exemple de programmation avec la POO\n",
    "qu'est-ce que la POO ?  \n",
    "avantages  \n",
    "fonctionnement des graphismes 2d  \n",
    "-> représentation des interractions (contrôleur) sur un écran de *visualisation*  \n",
    "exemple poo + graphismes en s'appuyant sur la nuit du code  \n",
    "  \n",
    "- Conclusion :  \n",
    "Les jeux vidéos ne sont donc pas qu'un simple hobby mais bien une industrie moderne qui s'inscrit dans notre monde actuel de par sa popularité mais également de par la richesse des emplois qu'elle offre. Du coeur du jeu la programmation, au rendu final le graphisme, ce sont de nombreuses personnes qui travaillent sur un seul et même jeu des équipes de moins de 10 personnes à celle de plus de 3000 pour les plus gros d'entre eux."
   ]
  }
 ],
 "metadata": {
  "language_info": {
   "name": "python"
  },
  "orig_nbformat": 4
 },
 "nbformat": 4,
 "nbformat_minor": 2
}
